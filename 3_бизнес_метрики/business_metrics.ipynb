{
 "cells": [
  {
   "cell_type": "markdown",
   "metadata": {},
   "source": [
    "ссылка на соревнование - https://mlbootcamp.ru/ru/round/12/sandbox/"
   ]
  },
  {
   "cell_type": "markdown",
   "metadata": {},
   "source": [
    "В рамках конкурса вам нужно предсказать наличие сердечно-сосудистых заболеваний по результатам классического врачебного осмотра. Датасет сформирован из 100.000 реальных клинических анализов, и в нём используются признаки, которые можно разбить на 3 группы:\n",
    "\n",
    " \n",
    "\n",
    "Объективные признаки:\n",
    "\n",
    " - Возраст\n",
    " - Рост\n",
    " - Вес\n",
    " - Пол\n",
    " \n",
    "\n",
    "Результаты измерения:\n",
    "\n",
    " - Артериальное давление верхнее и нижнее\n",
    " - Холестерин\n",
    " - Глюкоза\n",
    " \n",
    "\n",
    "Субъективные признаки:\n",
    "\n",
    " - Курение\n",
    " - Употребление Алкоголя\n",
    " - Физическая активность\n",
    " \n",
    "\n",
    "Возраст дан в днях. Значения показателей холестерина и глюкозы представлены одним из трех классов: норма, выше нормы, значительно выше нормы. Значения субъективных признаков — бинарны.\n",
    "\n",
    "Все показатели даны на момент осмотра."
   ]
  },
  {
   "cell_type": "markdown",
   "metadata": {},
   "source": [
    "Таргет - наличие сердечно-сосудистых заболеваний (ССЗ)"
   ]
  },
  {
   "cell_type": "code",
   "execution_count": 1,
   "metadata": {},
   "outputs": [],
   "source": [
    "import pandas as pd\n",
    "import numpy as np\n",
    "from sklearn.model_selection import train_test_split"
   ]
  },
  {
   "cell_type": "code",
   "execution_count": 2,
   "metadata": {},
   "outputs": [
    {
     "data": {
      "text/html": [
       "<div>\n",
       "<style scoped>\n",
       "    .dataframe tbody tr th:only-of-type {\n",
       "        vertical-align: middle;\n",
       "    }\n",
       "\n",
       "    .dataframe tbody tr th {\n",
       "        vertical-align: top;\n",
       "    }\n",
       "\n",
       "    .dataframe thead th {\n",
       "        text-align: right;\n",
       "    }\n",
       "</style>\n",
       "<table border=\"1\" class=\"dataframe\">\n",
       "  <thead>\n",
       "    <tr style=\"text-align: right;\">\n",
       "      <th></th>\n",
       "      <th>id</th>\n",
       "      <th>age</th>\n",
       "      <th>gender</th>\n",
       "      <th>height</th>\n",
       "      <th>weight</th>\n",
       "      <th>ap_hi</th>\n",
       "      <th>ap_lo</th>\n",
       "      <th>cholesterol</th>\n",
       "      <th>gluc</th>\n",
       "      <th>smoke</th>\n",
       "      <th>alco</th>\n",
       "      <th>active</th>\n",
       "      <th>cardio</th>\n",
       "    </tr>\n",
       "  </thead>\n",
       "  <tbody>\n",
       "    <tr>\n",
       "      <th>0</th>\n",
       "      <td>0</td>\n",
       "      <td>18393</td>\n",
       "      <td>2</td>\n",
       "      <td>168</td>\n",
       "      <td>62.0</td>\n",
       "      <td>110</td>\n",
       "      <td>80</td>\n",
       "      <td>1</td>\n",
       "      <td>1</td>\n",
       "      <td>0</td>\n",
       "      <td>0</td>\n",
       "      <td>1</td>\n",
       "      <td>0</td>\n",
       "    </tr>\n",
       "    <tr>\n",
       "      <th>1</th>\n",
       "      <td>1</td>\n",
       "      <td>20228</td>\n",
       "      <td>1</td>\n",
       "      <td>156</td>\n",
       "      <td>85.0</td>\n",
       "      <td>140</td>\n",
       "      <td>90</td>\n",
       "      <td>3</td>\n",
       "      <td>1</td>\n",
       "      <td>0</td>\n",
       "      <td>0</td>\n",
       "      <td>1</td>\n",
       "      <td>1</td>\n",
       "    </tr>\n",
       "    <tr>\n",
       "      <th>2</th>\n",
       "      <td>2</td>\n",
       "      <td>18857</td>\n",
       "      <td>1</td>\n",
       "      <td>165</td>\n",
       "      <td>64.0</td>\n",
       "      <td>130</td>\n",
       "      <td>70</td>\n",
       "      <td>3</td>\n",
       "      <td>1</td>\n",
       "      <td>0</td>\n",
       "      <td>0</td>\n",
       "      <td>0</td>\n",
       "      <td>1</td>\n",
       "    </tr>\n",
       "  </tbody>\n",
       "</table>\n",
       "</div>"
      ],
      "text/plain": [
       "   id    age  gender  height  weight  ap_hi  ap_lo  cholesterol  gluc  smoke  \\\n",
       "0   0  18393       2     168    62.0    110     80            1     1      0   \n",
       "1   1  20228       1     156    85.0    140     90            3     1      0   \n",
       "2   2  18857       1     165    64.0    130     70            3     1      0   \n",
       "\n",
       "   alco  active  cardio  \n",
       "0     0       1       0  \n",
       "1     0       1       1  \n",
       "2     0       0       1  "
      ]
     },
     "execution_count": 2,
     "metadata": {},
     "output_type": "execute_result"
    }
   ],
   "source": [
    "df = pd.read_csv('train_case2.csv', ';')\n",
    "df.head(3)"
   ]
  },
  {
   "cell_type": "markdown",
   "metadata": {},
   "source": [
    "Разделим наши данные на тренировочную и тестовую выборки"
   ]
  },
  {
   "cell_type": "code",
   "execution_count": 6,
   "metadata": {},
   "outputs": [],
   "source": [
    "#разделим данные на train/test\n",
    "X_train, X_test, y_train, y_test = train_test_split(df.drop('cardio', 1), \n",
    "                                                    df['cardio'], random_state=0)"
   ]
  },
  {
   "cell_type": "code",
   "execution_count": 7,
   "metadata": {},
   "outputs": [
    {
     "data": {
      "text/plain": [
       "(52500, 12)"
      ]
     },
     "execution_count": 7,
     "metadata": {},
     "output_type": "execute_result"
    }
   ],
   "source": [
    "X_train.shape"
   ]
  },
  {
   "cell_type": "markdown",
   "metadata": {},
   "source": [
    "К полям:\n",
    "- gender, cholesterol применим OHE-кодирование\n",
    "- age, height, weight, ap_hi, ap_lo - standardScaler\n",
    "- gluc, smoke, alco, active - оставим пока как есть"
   ]
  },
  {
   "cell_type": "code",
   "execution_count": 15,
   "metadata": {},
   "outputs": [],
   "source": [
    "from sklearn.base import BaseEstimator, TransformerMixin\n",
    "from sklearn.pipeline import Pipeline"
   ]
  },
  {
   "cell_type": "code",
   "execution_count": 16,
   "metadata": {},
   "outputs": [],
   "source": [
    "class ColumnSelector(BaseEstimator, TransformerMixin):\n",
    "    \"\"\"\n",
    "    Transformer to select a single column from the data frame to perform additional transformations on\n",
    "    \"\"\"\n",
    "    def __init__(self, key):\n",
    "        self.key = key\n",
    "\n",
    "    def fit(self, X, y=None):\n",
    "        return self\n",
    "\n",
    "    def transform(self, X):\n",
    "        return X[self.key]\n",
    "    \n",
    "class NumberSelector(BaseEstimator, TransformerMixin):\n",
    "    \"\"\"\n",
    "    Transformer to select a single column from the data frame to perform additional transformations on\n",
    "    Use on numeric columns in the data\n",
    "    \"\"\"\n",
    "    def __init__(self, key):\n",
    "        self.key = key\n",
    "\n",
    "    def fit(self, X, y=None):\n",
    "        return self\n",
    "\n",
    "    def transform(self, X):\n",
    "        return X[[self.key]]\n",
    "    \n",
    "class OHEEncoder(BaseEstimator, TransformerMixin):\n",
    "    def __init__(self, key):\n",
    "        self.key = key\n",
    "        self.columns = []\n",
    "\n",
    "    def fit(self, X, y=None):\n",
    "        self.columns = [col for col in pd.get_dummies(X, prefix=self.key).columns]\n",
    "        return self\n",
    "\n",
    "    def transform(self, X):\n",
    "        X = pd.get_dummies(X, prefix=self.key)\n",
    "        test_columns = [col for col in X.columns]\n",
    "        for col_ in test_columns:\n",
    "            if col_ not in self.columns:\n",
    "                X[col_] = 0\n",
    "        return X[self.columns]\n",
    "\n",
    "\n",
    "from sklearn.preprocessing import StandardScaler\n",
    "\n",
    "\n",
    "continuos_cols = ['age', 'height', 'weight', 'ap_hi', 'ap_lo']\n",
    "cat_cols = ['gender', 'cholesterol']\n",
    "base_cols = ['gluc', 'smoke', 'alco', 'active']\n",
    "\n",
    "continuos_transformers = []\n",
    "cat_transformers = []\n",
    "base_transformers = []\n",
    "\n",
    "for cont_col in continuos_cols:\n",
    "    transfomer =  Pipeline([\n",
    "                ('selector', NumberSelector(key=cont_col)),\n",
    "                ('standard', StandardScaler())\n",
    "            ])\n",
    "    continuos_transformers.append((cont_col, transfomer))\n",
    "    \n",
    "for cat_col in cat_cols:\n",
    "    cat_transformer = Pipeline([\n",
    "                ('selector', ColumnSelector(key=cat_col)),\n",
    "                ('ohe', OHEEncoder(key=cat_col))\n",
    "            ])\n",
    "    cat_transformers.append((cat_col, cat_transformer))\n",
    "    \n",
    "for base_col in base_cols:\n",
    "    base_transformer = Pipeline([\n",
    "                ('selector', NumberSelector(key=base_col))\n",
    "            ])\n",
    "    base_transformers.append((base_col, base_transformer))"
   ]
  },
  {
   "cell_type": "markdown",
   "metadata": {},
   "source": [
    "Теперь объединим все наши трансформеры с помощью FeatureUnion"
   ]
  },
  {
   "cell_type": "code",
   "execution_count": 17,
   "metadata": {},
   "outputs": [
    {
     "data": {
      "text/plain": [
       "array([[-1.73391771,  0.6873301 ,  0.74843904, ...,  1.        ,\n",
       "         0.        ,  1.        ],\n",
       "       [-1.67343538,  0.07758923, -0.29640123, ...,  0.        ,\n",
       "         0.        ,  1.        ],\n",
       "       [ 0.13738132,  1.17512278, -0.15708919, ...,  0.        ,\n",
       "         0.        ,  0.        ],\n",
       "       ...,\n",
       "       [ 1.17775864,  1.17512278, -0.15708919, ...,  0.        ,\n",
       "         0.        ,  1.        ],\n",
       "       [-0.47190715, -1.38578883,  0.74843904, ...,  0.        ,\n",
       "         0.        ,  1.        ],\n",
       "       [ 0.38174619,  0.56538192, -0.08743318, ...,  0.        ,\n",
       "         0.        ,  1.        ]])"
      ]
     },
     "execution_count": 17,
     "metadata": {},
     "output_type": "execute_result"
    }
   ],
   "source": [
    "from sklearn.pipeline import FeatureUnion\n",
    "\n",
    "feats = FeatureUnion(continuos_transformers+cat_transformers+base_transformers)\n",
    "feature_processing = Pipeline([('feats', feats)])\n",
    "\n",
    "feature_processing.fit_transform(X_train)"
   ]
  },
  {
   "cell_type": "markdown",
   "metadata": {},
   "source": [
    "Добавим классификатор и запустим кросс-валидацию"
   ]
  },
  {
   "cell_type": "code",
   "execution_count": 22,
   "metadata": {},
   "outputs": [],
   "source": [
    "from sklearn.linear_model import LogisticRegression\n",
    "from sklearn.ensemble import RandomForestClassifier\n",
    "from lightgbm import LGBMClassifier\n",
    "from sklearn.model_selection import cross_val_score"
   ]
  },
  {
   "cell_type": "code",
   "execution_count": 25,
   "metadata": {},
   "outputs": [
    {
     "name": "stdout",
     "output_type": "stream",
     "text": [
      "CV_log score is 0.7840550385416074+-0.0021645556767291986\n",
      "CV_random_forest score is 0.7940468343242751+-0.0025001417090835002\n",
      "CV_lightgbm score is 0.8015205599234987+-0.0027543576287143924\n"
     ]
    }
   ],
   "source": [
    "classifier_log = Pipeline([\n",
    "    ('features',feats),\n",
    "    ('classifier', LogisticRegression(C = 0.10,random_state = 42)),\n",
    "])\n",
    "\n",
    "classifier_random_forest = Pipeline([\n",
    "    ('features',feats),\n",
    "    ('classifier', RandomForestClassifier(n_estimators=20, max_depth=5, random_state = 42)),\n",
    "])\n",
    "\n",
    "classifier_lightgbm = Pipeline([\n",
    "    ('features',feats),\n",
    "    ('classifier', LGBMClassifier(random_state = 42)),\n",
    "])\n",
    "\n",
    "#запустим кросс-валидацию для логистической регрессии\n",
    "cv_scores_log = cross_val_score(classifier_log, X_train, y_train, cv=4, scoring='roc_auc')\n",
    "cv_score_log = np.mean(cv_scores_log)\n",
    "cv_score_std_log = np.std(cv_scores_log)\n",
    "print('CV_log score is {}+-{}'.format(cv_score_log, cv_score_std_log))\n",
    "\n",
    "#обучим пайплайн на всем тренировочном датасете\n",
    "classifier_log.fit(X_train, y_train)\n",
    "y_score_log = classifier_log.predict_proba(X_test)[:, 1]\n",
    "\n",
    "\n",
    "#запустим кросс-валидацию для случайного леса\n",
    "cv_scores_random_forest = cross_val_score(classifier_random_forest,\\\n",
    "                                          X_train, y_train, cv=4, scoring='roc_auc')\n",
    "cv_score_random_forest = np.mean(cv_scores_random_forest)\n",
    "cv_score_std_random_forest = np.std(cv_scores_random_forest)\n",
    "print('CV_random_forest score is {}+-{}'.format(cv_score_random_forest,\\\n",
    "                                                cv_score_std_random_forest))\n",
    "\n",
    "#обучим пайплайн на всем тренировочном датасете\n",
    "classifier_random_forest.fit(X_train, y_train)\n",
    "y_score_random_forest = classifier_random_forest.predict_proba(X_test)[:, 1]\n",
    "\n",
    "\n",
    "#запустим кросс-валидацию для бустинга lightgbm\n",
    "cv_scores_lightgbm = cross_val_score(classifier_lightgbm,\\\n",
    "                                          X_train, y_train, cv=4, scoring='roc_auc')\n",
    "cv_score_lightgbm = np.mean(cv_scores_lightgbm)\n",
    "cv_score_std_lightgbm = np.std(cv_scores_lightgbm)\n",
    "print('CV_lightgbm score is {}+-{}'.format(cv_score_lightgbm,\\\n",
    "                                                cv_score_std_lightgbm))\n",
    "\n",
    "#обучим пайплайн на всем тренировочном датасете\n",
    "classifier_lightgbm.fit(X_train, y_train)\n",
    "y_score_lightgbm = classifier_lightgbm.predict_proba(X_test)[:, 1]"
   ]
  },
  {
   "cell_type": "markdown",
   "metadata": {},
   "source": [
    "Посчитаем precision/recall/f_score"
   ]
  },
  {
   "cell_type": "code",
   "execution_count": 45,
   "metadata": {},
   "outputs": [],
   "source": [
    "from sklearn.metrics import precision_recall_curve"
   ]
  },
  {
   "cell_type": "code",
   "execution_count": 182,
   "metadata": {},
   "outputs": [],
   "source": [
    "b=1\n",
    "\n",
    "metrics = pd.DataFrame(columns=['precision', 'recall', 'fscore', 'roc_auc', 'log_loss'],\\\n",
    "                       index=['log','random_forest','lightgbm'])\n",
    "scores = [y_score_log, y_score_random_forest, y_score_lightgbm]\n",
    "ix = []\n",
    "precision_list = []\n",
    "recall_list = []\n",
    "fscore_list = []\n",
    "threshold_list = []\n",
    "\n",
    "for score in scores:\n",
    "    precision = precision_recall_curve(y_test.values, score)[0]\n",
    "    recall = precision_recall_curve(y_test.values, score)[1]\n",
    "    threshold = precision_recall_curve(y_test.values, score)[2]\n",
    "    fscore = (1+b**2)*(precision * recall) / (b**2*precision + recall)\n",
    "    ix.append(np.argmax(fscore))\n",
    "    fscore_list.append(np.amax(fscore))\n",
    "    precision_list.append(precision)\n",
    "    recall_list.append(recall)\n",
    "    threshold_list.append(threshold[np.argmax(fscore)])\n",
    "\n",
    "metrics['precision'].loc['log'] = precision_list[0][ix[0]]\n",
    "metrics['recall'].loc['log'] = recall_list[0][ix[0]]\n",
    "metrics['fscore'].loc['log'] = fscore_list[0]\n",
    "\n",
    "metrics['precision'].loc['random_forest'] = precision_list[1][ix[1]]\n",
    "metrics['recall'].loc['random_forest'] = recall_list[1][ix[1]]\n",
    "metrics['fscore'].loc['random_forest'] = fscore_list[1]\n",
    "\n",
    "metrics['precision'].loc['lightgbm'] = precision_list[2][ix[2]]\n",
    "metrics['recall'].loc['lightgbm'] = recall_list[2][ix[2]]\n",
    "metrics['fscore'].loc['lightgbm'] = fscore_list[2]\n",
    "\n"
   ]
  },
  {
   "cell_type": "code",
   "execution_count": 144,
   "metadata": {},
   "outputs": [
    {
     "data": {
      "text/html": [
       "<div>\n",
       "<style scoped>\n",
       "    .dataframe tbody tr th:only-of-type {\n",
       "        vertical-align: middle;\n",
       "    }\n",
       "\n",
       "    .dataframe tbody tr th {\n",
       "        vertical-align: top;\n",
       "    }\n",
       "\n",
       "    .dataframe thead th {\n",
       "        text-align: right;\n",
       "    }\n",
       "</style>\n",
       "<table border=\"1\" class=\"dataframe\">\n",
       "  <thead>\n",
       "    <tr style=\"text-align: right;\">\n",
       "      <th></th>\n",
       "      <th>precision</th>\n",
       "      <th>recall</th>\n",
       "      <th>fscore</th>\n",
       "      <th>roc_auc</th>\n",
       "      <th>log_loss</th>\n",
       "    </tr>\n",
       "  </thead>\n",
       "  <tbody>\n",
       "    <tr>\n",
       "      <th>log</th>\n",
       "      <td>0.644507</td>\n",
       "      <td>0.838825</td>\n",
       "      <td>0.728938</td>\n",
       "      <td>NaN</td>\n",
       "      <td>NaN</td>\n",
       "    </tr>\n",
       "    <tr>\n",
       "      <th>random_forest</th>\n",
       "      <td>0.667631</td>\n",
       "      <td>0.824539</td>\n",
       "      <td>0.737835</td>\n",
       "      <td>NaN</td>\n",
       "      <td>NaN</td>\n",
       "    </tr>\n",
       "    <tr>\n",
       "      <th>lightgbm</th>\n",
       "      <td>0.660803</td>\n",
       "      <td>0.839631</td>\n",
       "      <td>0.739561</td>\n",
       "      <td>NaN</td>\n",
       "      <td>NaN</td>\n",
       "    </tr>\n",
       "  </tbody>\n",
       "</table>\n",
       "</div>"
      ],
      "text/plain": [
       "              precision    recall    fscore roc_auc log_loss\n",
       "log            0.644507  0.838825  0.728938     NaN      NaN\n",
       "random_forest  0.667631  0.824539  0.737835     NaN      NaN\n",
       "lightgbm       0.660803  0.839631  0.739561     NaN      NaN"
      ]
     },
     "execution_count": 144,
     "metadata": {},
     "output_type": "execute_result"
    }
   ],
   "source": [
    "metrics"
   ]
  },
  {
   "cell_type": "markdown",
   "metadata": {},
   "source": [
    "Нарисуем roc auc кривую (кстати, наверное неплохо бы ее вынести в отдельную функцию)"
   ]
  },
  {
   "cell_type": "code",
   "execution_count": 145,
   "metadata": {},
   "outputs": [],
   "source": [
    "import matplotlib.pyplot as plt\n",
    "import seaborn as sns\n",
    "from sklearn.metrics import roc_curve"
   ]
  },
  {
   "cell_type": "code",
   "execution_count": 146,
   "metadata": {},
   "outputs": [],
   "source": [
    "def roc_plot(y_test, scores):\n",
    "    sns.set(font_scale=1.5)\n",
    "    sns.set_color_codes(\"muted\")\n",
    "\n",
    "    plt.figure(figsize=(10, 8))\n",
    "    #fpr3, tpr3, thresholds_ = roc_curve(y_test, score, name=1)# C = 0.1\n",
    "    fpr1, tpr1, thresholds_ = roc_curve(y_test, scores[0], pos_label=1)\n",
    "    fpr2, tpr2, thresholds_ = roc_curve(y_test, scores[1], pos_label=1)\n",
    "    fpr3, tpr3, thresholds_ = roc_curve(y_test, scores[2], pos_label=1)#C = 10\n",
    "    lw = 2\n",
    "\n",
    "    plt.plot(fpr1, tpr1, lw=2, label='log')\n",
    "    plt.plot(fpr2, tpr2, lw=2, label='forest')\n",
    "    plt.plot(fpr3, tpr3, lw=2, label='lightgbm')\n",
    "    plt.plot([0, 1], [0, 1])\n",
    "    plt.xlim([0.0, 1.0])\n",
    "    plt.ylim([0.0, 1.05])\n",
    "    plt.xlabel('False Positive Rate')\n",
    "    plt.ylabel('True Positive Rate')\n",
    "    plt.title('ROC curve')\n",
    "    plt.legend(['log','forest','lightgbm'])\n",
    "    plt.savefig(\"ROC.png\")\n",
    "    plt.show()"
   ]
  },
  {
   "cell_type": "code",
   "execution_count": 147,
   "metadata": {},
   "outputs": [
    {
     "data": {
      "image/png": "[encoded data removed]",
      "text/plain": [
       "<Figure size 720x576 with 1 Axes>"
      ]
     },
     "metadata": {},
     "output_type": "display_data"
    }
   ],
   "source": [
    "roc_plot(y_test, scores)"
   ]
  },
  {
   "cell_type": "code",
   "execution_count": 148,
   "metadata": {},
   "outputs": [
    {
     "data": {
      "text/html": [
       "<div>\n",
       "<style scoped>\n",
       "    .dataframe tbody tr th:only-of-type {\n",
       "        vertical-align: middle;\n",
       "    }\n",
       "\n",
       "    .dataframe tbody tr th {\n",
       "        vertical-align: top;\n",
       "    }\n",
       "\n",
       "    .dataframe thead th {\n",
       "        text-align: right;\n",
       "    }\n",
       "</style>\n",
       "<table border=\"1\" class=\"dataframe\">\n",
       "  <thead>\n",
       "    <tr style=\"text-align: right;\">\n",
       "      <th></th>\n",
       "      <th>precision</th>\n",
       "      <th>recall</th>\n",
       "      <th>fscore</th>\n",
       "      <th>roc_auc</th>\n",
       "      <th>log_loss</th>\n",
       "    </tr>\n",
       "  </thead>\n",
       "  <tbody>\n",
       "    <tr>\n",
       "      <th>log</th>\n",
       "      <td>0.644507</td>\n",
       "      <td>0.838825</td>\n",
       "      <td>0.728938</td>\n",
       "      <td>NaN</td>\n",
       "      <td>NaN</td>\n",
       "    </tr>\n",
       "    <tr>\n",
       "      <th>random_forest</th>\n",
       "      <td>0.667631</td>\n",
       "      <td>0.824539</td>\n",
       "      <td>0.737835</td>\n",
       "      <td>NaN</td>\n",
       "      <td>NaN</td>\n",
       "    </tr>\n",
       "    <tr>\n",
       "      <th>lightgbm</th>\n",
       "      <td>0.660803</td>\n",
       "      <td>0.839631</td>\n",
       "      <td>0.739561</td>\n",
       "      <td>NaN</td>\n",
       "      <td>NaN</td>\n",
       "    </tr>\n",
       "  </tbody>\n",
       "</table>\n",
       "</div>"
      ],
      "text/plain": [
       "              precision    recall    fscore roc_auc log_loss\n",
       "log            0.644507  0.838825  0.728938     NaN      NaN\n",
       "random_forest  0.667631  0.824539  0.737835     NaN      NaN\n",
       "lightgbm       0.660803  0.839631  0.739561     NaN      NaN"
      ]
     },
     "execution_count": 148,
     "metadata": {},
     "output_type": "execute_result"
    }
   ],
   "source": [
    "metrics"
   ]
  },
  {
   "cell_type": "code",
   "execution_count": 191,
   "metadata": {},
   "outputs": [],
   "source": [
    "from sklearn.metrics import roc_auc_score, log_loss\n",
    "\n",
    "#Ваш код здесь\n",
    "score_log = classifier_log.predict_proba(X_test)[:,0]\n",
    "metrics['roc_auc'].loc['log'] =\\\n",
    "    roc_auc_score(y_true=1-y_test, y_score=score_log)\n",
    "metrics['log_loss'].loc['log'] =\\\n",
    "    log_loss(y_true=1-y_test, y_pred=classifier_log.predict_proba(X_test)[:,0])\n",
    "\n",
    "score_random_forest = classifier_random_forest.predict_proba(X_test)[:,0]\n",
    "metrics['roc_auc'].loc['random_forest'] =\\\n",
    "    roc_auc_score(y_true=1-y_test, y_score=score_random_forest)\n",
    "metrics['log_loss'].loc['random_forest'] =\\\n",
    "    log_loss(y_true=1-y_test, y_pred=score_random_forest)\n",
    "\n",
    "score_lightgbm = classifier_lightgbm.predict_proba(X_test)[:,0]\n",
    "metrics['roc_auc'].loc['lightgbm'] =\\\n",
    "    roc_auc_score(y_true=1-y_test, y_score=score_lightgbm)\n",
    "metrics['log_loss'].loc['lightgbm'] =\\\n",
    "    log_loss(y_true=1-y_test, y_pred=score_lightgbm)\n",
    "\n"
   ]
  },
  {
   "cell_type": "markdown",
   "metadata": {},
   "source": [
    "Посомтрим на матрицу ошибок"
   ]
  },
  {
   "cell_type": "code",
   "execution_count": 192,
   "metadata": {},
   "outputs": [
    {
     "data": {
      "text/html": [
       "<div>\n",
       "<style scoped>\n",
       "    .dataframe tbody tr th:only-of-type {\n",
       "        vertical-align: middle;\n",
       "    }\n",
       "\n",
       "    .dataframe tbody tr th {\n",
       "        vertical-align: top;\n",
       "    }\n",
       "\n",
       "    .dataframe thead th {\n",
       "        text-align: right;\n",
       "    }\n",
       "</style>\n",
       "<table border=\"1\" class=\"dataframe\">\n",
       "  <thead>\n",
       "    <tr style=\"text-align: right;\">\n",
       "      <th></th>\n",
       "      <th>precision</th>\n",
       "      <th>recall</th>\n",
       "      <th>fscore</th>\n",
       "      <th>roc_auc</th>\n",
       "      <th>log_loss</th>\n",
       "    </tr>\n",
       "  </thead>\n",
       "  <tbody>\n",
       "    <tr>\n",
       "      <th>log</th>\n",
       "      <td>0.644507</td>\n",
       "      <td>0.838825</td>\n",
       "      <td>0.728938</td>\n",
       "      <td>0.781981</td>\n",
       "      <td>0.579303</td>\n",
       "    </tr>\n",
       "    <tr>\n",
       "      <th>random_forest</th>\n",
       "      <td>0.667631</td>\n",
       "      <td>0.824539</td>\n",
       "      <td>0.737835</td>\n",
       "      <td>0.795287</td>\n",
       "      <td>0.555957</td>\n",
       "    </tr>\n",
       "    <tr>\n",
       "      <th>lightgbm</th>\n",
       "      <td>0.660803</td>\n",
       "      <td>0.839631</td>\n",
       "      <td>0.739561</td>\n",
       "      <td>0.801689</td>\n",
       "      <td>0.540579</td>\n",
       "    </tr>\n",
       "  </tbody>\n",
       "</table>\n",
       "</div>"
      ],
      "text/plain": [
       "              precision    recall    fscore   roc_auc  log_loss\n",
       "log            0.644507  0.838825  0.728938  0.781981  0.579303\n",
       "random_forest  0.667631  0.824539  0.737835  0.795287  0.555957\n",
       "lightgbm       0.660803  0.839631  0.739561  0.801689  0.540579"
      ]
     },
     "execution_count": 192,
     "metadata": {},
     "output_type": "execute_result"
    }
   ],
   "source": [
    "metrics"
   ]
  },
  {
   "cell_type": "code",
   "execution_count": 167,
   "metadata": {},
   "outputs": [],
   "source": [
    "from sklearn.metrics import confusion_matrix"
   ]
  },
  {
   "cell_type": "code",
   "execution_count": 168,
   "metadata": {},
   "outputs": [],
   "source": [
    "def plot_confusion_matrix(cm, classes,\n",
    "                          normalize=False,\n",
    "                          title='Confusion matrix',\n",
    "                          cmap=plt.cm.Blues):\n",
    "    \"\"\"\n",
    "    This function prints and plots the confusion matrix.\n",
    "    Normalization can be applied by setting `normalize=True`.\n",
    "    \"\"\"\n",
    "    plt.imshow(cm, interpolation='nearest', cmap=cmap)\n",
    "    plt.title(title)\n",
    "    plt.colorbar()\n",
    "    tick_marks = np.arange(len(classes))\n",
    "    plt.xticks(tick_marks, classes, rotation=45)\n",
    "    plt.yticks(tick_marks, classes)\n",
    "\n",
    "    if normalize:\n",
    "        cm = cm.astype('float') / cm.sum(axis=1)[:, np.newaxis]\n",
    "        print(\"Normalized confusion matrix\")\n",
    "    else:\n",
    "        print('Confusion matrix, without normalization')\n",
    "\n",
    "    print(cm)\n",
    "\n",
    "    thresh = cm.max() / 2.\n",
    "    for i, j in itertools.product(range(cm.shape[0]), range(cm.shape[1])):\n",
    "        plt.text(j, i, cm[i, j],\n",
    "                 horizontalalignment=\"center\",\n",
    "                 color=\"white\" if cm[i, j] > thresh else \"black\")\n",
    "\n",
    "    plt.tight_layout()\n",
    "    plt.ylabel('True label')\n",
    "    plt.xlabel('Predicted label')"
   ]
  },
  {
   "cell_type": "code",
   "execution_count": 184,
   "metadata": {},
   "outputs": [
    {
     "data": {
      "text/plain": [
       "(array([[1058, 7762],\n",
       "        [4240, 4440]]),\n",
       " array([[1159, 7661],\n",
       "        [4886, 3794]]),\n",
       " array([[1046, 7774],\n",
       "        [4806, 3874]]))"
      ]
     },
     "execution_count": 184,
     "metadata": {},
     "output_type": "execute_result"
    }
   ],
   "source": [
    "#мы уже нашли ранее \"оптимальный\" порог, когда максимизировали f_score\n",
    "font = {'size' : 15}\n",
    "\n",
    "plt.rc('font', **font)\n",
    "\n",
    "business_threshold = 1  # подберем порог для улучшения бизнесс показателя\n",
    "\n",
    "cnf_matrix_log = confusion_matrix(y_test, score_log>threshold_list[0]*business_threshold)\n",
    "cnf_matrix_random_forest = confusion_matrix(y_test, score_random_forest\\\n",
    "                                      >threshold_list[1]*business_threshold)\n",
    "cnf_matrix_ligthgbm = confusion_matrix(y_test, score_lightgbm>threshold_list[2]*business_threshold)\n",
    "\n",
    "cnf_matrix_log, cnf_matrix_random_forest, cnf_matrix_ligthgbm"
   ]
  },
  {
   "cell_type": "markdown",
   "metadata": {},
   "source": [
    "Посчитаем FPR, TPR"
   ]
  },
  {
   "cell_type": "code",
   "execution_count": 98,
   "metadata": {},
   "outputs": [
    {
     "data": {
      "text/plain": [
       "(0.8387096774193549, 0.455328798185941, 0.5446712018140589)"
      ]
     },
     "execution_count": 98,
     "metadata": {},
     "output_type": "execute_result"
    }
   ],
   "source": [
    "TN = cnf_matrix[0][0]\n",
    "FN = cnf_matrix[1][0]\n",
    "TP = cnf_matrix[1][1]\n",
    "FP = cnf_matrix[0][1]\n",
    "\n",
    "TPR = TP/(TP+FN)\n",
    "FPR = FP/(FP+TN)\n",
    "TNR = TN/(FP+TN)\n",
    "TPR, FPR, TNR"
   ]
  },
  {
   "cell_type": "code",
   "execution_count": 190,
   "metadata": {},
   "outputs": [
    {
     "data": {
      "text/html": [
       "<div>\n",
       "<style scoped>\n",
       "    .dataframe tbody tr th:only-of-type {\n",
       "        vertical-align: middle;\n",
       "    }\n",
       "\n",
       "    .dataframe tbody tr th {\n",
       "        vertical-align: top;\n",
       "    }\n",
       "\n",
       "    .dataframe thead th {\n",
       "        text-align: right;\n",
       "    }\n",
       "</style>\n",
       "<table border=\"1\" class=\"dataframe\">\n",
       "  <thead>\n",
       "    <tr style=\"text-align: right;\">\n",
       "      <th></th>\n",
       "      <th>precision</th>\n",
       "      <th>recall</th>\n",
       "      <th>fscore</th>\n",
       "      <th>roc_auc</th>\n",
       "      <th>log_loss</th>\n",
       "    </tr>\n",
       "  </thead>\n",
       "  <tbody>\n",
       "    <tr>\n",
       "      <th>log</th>\n",
       "      <td>0.644507</td>\n",
       "      <td>0.838825</td>\n",
       "      <td>0.728938</td>\n",
       "      <td>NaN</td>\n",
       "      <td>NaN</td>\n",
       "    </tr>\n",
       "    <tr>\n",
       "      <th>random_forest</th>\n",
       "      <td>0.667631</td>\n",
       "      <td>0.824539</td>\n",
       "      <td>0.737835</td>\n",
       "      <td>NaN</td>\n",
       "      <td>NaN</td>\n",
       "    </tr>\n",
       "    <tr>\n",
       "      <th>lightgbm</th>\n",
       "      <td>0.660803</td>\n",
       "      <td>0.839631</td>\n",
       "      <td>0.739561</td>\n",
       "      <td>NaN</td>\n",
       "      <td>NaN</td>\n",
       "    </tr>\n",
       "  </tbody>\n",
       "</table>\n",
       "</div>"
      ],
      "text/plain": [
       "              precision    recall    fscore roc_auc log_loss\n",
       "log            0.644507  0.838825  0.728938     NaN      NaN\n",
       "random_forest  0.667631  0.824539  0.737835     NaN      NaN\n",
       "lightgbm       0.660803  0.839631  0.739561     NaN      NaN"
      ]
     },
     "execution_count": 190,
     "metadata": {},
     "output_type": "execute_result"
    }
   ],
   "source": [
    "metrics"
   ]
  },
  {
   "cell_type": "markdown",
   "metadata": {},
   "source": [
    "False Positive Rate довольно высокий ~ 0.45.\n",
    "\n",
    "Это означает, что 45 процентов всех пациентов получат метку 1 при том, что они на самом деле здоровы"
   ]
  },
  {
   "cell_type": "markdown",
   "metadata": {},
   "source": [
    "Хорошая ли модель у нас получилась? - ответ сильно зависит от внешних факторов (какое количество FP мы можем допустить)"
   ]
  },
  {
   "cell_type": "markdown",
   "metadata": {},
   "source": [
    "#### Пусть:\n",
    " - стоимость лечения 15000 р, если сделали тест и начали лечить вовремя\n",
    " - стоимость лечения 20000, если упустили и начали лечить когда уже проявились все симптомы \n",
    " - стоимость теста 1400 р\n",
    " \n",
    " \n",
    " \n",
    " - лишних тестов сделали FP = cnf_matrix[0][1]\n",
    " - пропустили больных FN = cnf_matrix[1][0]\n",
    " - правильных тестов сделали TP = cnf_matrix[1][1]\n",
    "\n",
    "Оценим расходы, если не делать тест и ждать симптомов:"
   ]
  },
  {
   "cell_type": "code",
   "execution_count": 99,
   "metadata": {},
   "outputs": [],
   "source": [
    "rubl_to_test = 1400\n",
    "rubl_to_early_treatment = 15000\n",
    "rubl_to_late_treatment = 20000"
   ]
  },
  {
   "cell_type": "markdown",
   "metadata": {},
   "source": [
    "Оценим разницу:\n"
   ]
  },
  {
   "cell_type": "code",
   "execution_count": 186,
   "metadata": {},
   "outputs": [],
   "source": [
    "def business_threshold_calibrate(y_test, y_score, thresholds,rubl_to_test = 100, rubl_to_early_treatment = 100, rubl_to_late_treatment = 1000):\n",
    "    business_threshold = 0\n",
    "    r1_r2_ = 0\n",
    "    r1_r3_ = 0\n",
    "    r2_r3_ = 0\n",
    "    rubl_1_ = - 10000000 \n",
    "    rubl_all_test_ = - 10000000 \n",
    "    rubl_ML_ = - 10000000 \n",
    "\n",
    "    r2 = []\n",
    "    n = 20\n",
    "    for opt_buisness_tr in np.linspace(0,1,n).tolist():\n",
    "        # подберем порог для улучшения бизнесс показателя\n",
    "\n",
    "        cnf_matrix = confusion_matrix(y_test, y_score > ( opt_buisness_tr))\n",
    "        #print(cnf_matrix )\n",
    "        rubl_1 = ((cnf_matrix[1][1]+cnf_matrix[1][0])) * rubl_to_late_treatment\n",
    "\n",
    "        rubl_all_test = np.sum(cnf_matrix) * rubl_to_test + ((cnf_matrix[1][0]+cnf_matrix[1][1])) * rubl_to_early_treatment\n",
    "\n",
    "        rubl_ML = ((cnf_matrix[1][1]+cnf_matrix[0][1])) * rubl_to_test + np.sum(cnf_matrix[1][0]) * rubl_to_late_treatment + (cnf_matrix[1][1]) * rubl_to_early_treatment\n",
    "       \n",
    "        r2_r3 = rubl_all_test - rubl_ML \n",
    "        \n",
    "        r1_r2 = rubl_1 - rubl_all_test\n",
    "        r1_r3 = rubl_1 - rubl_ML\n",
    "        #print(opt_buisness_tr, r2_r3)\n",
    "        if (r2_r3_ < r2_r3):\n",
    "            \n",
    "            business_threshold = opt_buisness_tr\n",
    "            r1_r2_ = r1_r2\n",
    "            r1_r3_ = r1_r3\n",
    "            r2_r3_ = r2_r3\n",
    "            rubl_1_ = rubl_1\n",
    "            rubl_all_test_ = rubl_all_test\n",
    "            rubl_ML_ = rubl_ML\n",
    "            \n",
    "        r2.append(r2_r3)   \n",
    "            \n",
    "    \n",
    "    print('расходы, если не делать тест и ждать симптомов:',rubl_1_)\n",
    "    print('расходы, если делать тест всем и лечить группу большых:',rubl_all_test_)\n",
    "    print('расходы, если не делать тест и ждать симптомов:',rubl_ML_)\n",
    "    print(' Расходы при решении не делать тесты - расходы с МL :',r1_r3_ )\n",
    "    print(' Расходы при решении не делать тесты - расходы ссделать тесты всем  :',r1_r2_ )\n",
    "    print(' Расходы сделать тесты всем - решение делать тесты ML  :',r2_r3_ )\n",
    "    plt.plot(np.linspace(0,1,n),r2)\n",
    "    plt.show()\n",
    "    return business_threshold\n",
    "    "
   ]
  },
  {
   "cell_type": "code",
   "execution_count": null,
   "metadata": {},
   "outputs": [],
   "source": [
    "BUisnes_tr = business_threshold_calibrate(y_test, score_log, \n",
    "                                          thresholds[0] ,\n",
    "                                          rubl_to_test = 1400, \n",
    "                                          rubl_to_early_treatment = 15000, \n",
    "                                          rubl_to_late_treatment = 20000)\n",
    "print('уровень порога по бизнес метрике',BUisnes_tr)\n",
    "print('уровень порога по f1 метрике',thresholds[0])\n",
    "print('Логистическая регрессия')"
   ]
  },
  {
   "cell_type": "code",
   "execution_count": null,
   "metadata": {},
   "outputs": [],
   "source": [
    "BUisnes_tr = business_threshold_calibrate(y_test, score_random_forest, \n",
    "                                          thresholds[1] ,\n",
    "                                          rubl_to_test = 1400, \n",
    "                                          rubl_to_early_treatment = 15000, \n",
    "                                          rubl_to_late_treatment = 20000)\n",
    "print('уровень порога по бизнес метрике',BUisnes_tr)\n",
    "print('уровень порога по f1 метрике',thresholds[1])\n",
    "print('Случайный лес')"
   ]
  },
  {
   "cell_type": "code",
   "execution_count": null,
   "metadata": {},
   "outputs": [],
   "source": [
    "BUisnes_tr = business_threshold_calibrate(y_test, score_lightgbm, \n",
    "                                          thresholds[2] ,\n",
    "                                          rubl_to_test = 1400, \n",
    "                                          rubl_to_early_treatment = 15000, \n",
    "                                          rubl_to_late_treatment = 20000)\n",
    "print('уровень порога по бизнес метрике',BUisnes_tr)\n",
    "print('уровень порога по f1 метрике',thresholds[2])\n",
    "print('Lightgbm')"
   ]
  },
  {
   "cell_type": "markdown",
   "metadata": {},
   "source": [
    "Лучше всего себя показала модель бустинга "
   ]
  },
  {
   "cell_type": "markdown",
   "metadata": {},
   "source": [
    "Roc_Auc_curve более устойчива в случае неосбалансированых классов "
   ]
  },
  {
   "cell_type": "markdown",
   "metadata": {},
   "source": [
    "1. https://dyakonov.org/2017/07/28/auc-roc-площадь-под-кривой-ошибок/\n",
    "2. https://en.wikipedia.org/wiki/Receiver_operating_characteristic"
   ]
  },
  {
   "cell_type": "code",
   "execution_count": null,
   "metadata": {},
   "outputs": [],
   "source": []
  }
 ],
 "metadata": {
  "kernelspec": {
   "display_name": "Python 3 (ipykernel)",
   "language": "python",
   "name": "python3"
  },
  "language_info": {
   "codemirror_mode": {
    "name": "ipython",
    "version": 3
   },
   "file_extension": ".py",
   "mimetype": "text/x-python",
   "name": "python",
   "nbconvert_exporter": "python",
   "pygments_lexer": "ipython3",
   "version": "3.9.12"
  },
  "widgets": {
   "application/vnd.jupyter.widget-state+json": {
    "state": {},
    "version_major": 2,
    "version_minor": 0
   }
  }
 },
 "nbformat": 4,
 "nbformat_minor": 2
}

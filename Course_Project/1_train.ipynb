{
 "cells": [
  {
   "cell_type": "code",
   "execution_count": 49,
   "metadata": {},
   "outputs": [],
   "source": [
    "import pandas as pd\n",
    "import numpy as np\n",
    "from sklearn.model_selection import train_test_split"
   ]
  },
  {
   "cell_type": "code",
   "execution_count": 50,
   "metadata": {},
   "outputs": [],
   "source": [
    "data = pd.read_csv('data_train.csv')"
   ]
  },
  {
   "cell_type": "code",
   "execution_count": 51,
   "metadata": {},
   "outputs": [],
   "source": [
    "data['Classes'] = data[['Classes']].applymap(lambda x: x.replace(\" \", \"\"))\n",
    "data['Classes'] = data[['Classes']].applymap(lambda x: 1 if x=='fire' else 0)"
   ]
  },
  {
   "cell_type": "code",
   "execution_count": 52,
   "metadata": {},
   "outputs": [],
   "source": [
    "X_train, X_val, y_train, y_val =\\\n",
    "    train_test_split(data.drop('Classes', axis=1), data['Classes'])"
   ]
  },
  {
   "cell_type": "code",
   "execution_count": 53,
   "metadata": {},
   "outputs": [],
   "source": [
    "from sklearn.linear_model import LogisticRegression\n",
    "from sklearn.preprocessing import StandardScaler\n",
    "from sklearn.base import BaseEstimator, TransformerMixin\n",
    "from sklearn.pipeline import Pipeline, FeatureUnion\n",
    "from sklearn.metrics import precision_score,recall_score\n",
    "#imputer\n",
    "from sklearn.impute import SimpleImputer"
   ]
  },
  {
   "cell_type": "code",
   "execution_count": null,
   "metadata": {},
   "outputs": [],
   "source": []
  },
  {
   "cell_type": "code",
   "execution_count": 77,
   "metadata": {},
   "outputs": [],
   "source": [
    "class ColumnSelector(BaseEstimator, TransformerMixin):\n",
    "    \"\"\"\n",
    "    Transformer to select a single column from the data frame to perform additional transformations on\n",
    "    \"\"\"\n",
    "    def __init__(self, key):\n",
    "        self.key = key\n",
    "\n",
    "    def fit(self, X, y=None):\n",
    "        return self\n",
    "\n",
    "    def transform(self, X):\n",
    "        return X[self.key]\n"
   ]
  },
  {
   "cell_type": "code",
   "execution_count": 107,
   "metadata": {},
   "outputs": [],
   "source": [
    "features = ['day','month','year','Temperature','RH','Ws','Rain','FMC'\\\n",
    "            ,'DMC','DC','ISI','BUI','FWI','region_A']\n",
    "target = 'Classes'"
   ]
  },
  {
   "cell_type": "code",
   "execution_count": 108,
   "metadata": {},
   "outputs": [],
   "source": [
    "final_transformers = list()\n",
    "    \n",
    "for col in features:\n",
    "    cont_transformer = Pipeline([\n",
    "                ('scaler', StandardScaler())\n",
    "            ])\n",
    "    final_transformers.append((col, cont_transformer))\n",
    "\n",
    "feats = FeatureUnion(final_transformers)"
   ]
  },
  {
   "cell_type": "code",
   "execution_count": 109,
   "metadata": {},
   "outputs": [
    {
     "data": {
      "text/plain": [
       "Pipeline(steps=[('features',\n",
       "                 FeatureUnion(transformer_list=[('day',\n",
       "                                                 Pipeline(steps=[('scaler',\n",
       "                                                                  StandardScaler())])),\n",
       "                                                ('month',\n",
       "                                                 Pipeline(steps=[('scaler',\n",
       "                                                                  StandardScaler())])),\n",
       "                                                ('year',\n",
       "                                                 Pipeline(steps=[('scaler',\n",
       "                                                                  StandardScaler())])),\n",
       "                                                ('Temperature',\n",
       "                                                 Pipeline(steps=[('scaler',\n",
       "                                                                  StandardScaler())])),\n",
       "                                                ('RH',\n",
       "                                                 Pipeline(steps=[('scaler',\n",
       "                                                                  StandardScaler())])),\n",
       "                                                ('Ws',\n",
       "                                                 Pipel...\n",
       "                                                 Pipeline(steps=[('scaler',\n",
       "                                                                  StandardScaler())])),\n",
       "                                                ('DC',\n",
       "                                                 Pipeline(steps=[('scaler',\n",
       "                                                                  StandardScaler())])),\n",
       "                                                ('ISI',\n",
       "                                                 Pipeline(steps=[('scaler',\n",
       "                                                                  StandardScaler())])),\n",
       "                                                ('BUI',\n",
       "                                                 Pipeline(steps=[('scaler',\n",
       "                                                                  StandardScaler())])),\n",
       "                                                ('FWI',\n",
       "                                                 Pipeline(steps=[('scaler',\n",
       "                                                                  StandardScaler())])),\n",
       "                                                ('region_A',\n",
       "                                                 Pipeline(steps=[('scaler',\n",
       "                                                                  StandardScaler())]))])),\n",
       "                ('classifier', LogisticRegression())])"
      ]
     },
     "execution_count": 109,
     "metadata": {},
     "output_type": "execute_result"
    }
   ],
   "source": [
    "pipeline = Pipeline([\n",
    "    ('features',feats),\n",
    "    ('classifier', LogisticRegression()),\n",
    "])\n",
    "\n",
    "pipeline.fit(X_train, y_train)"
   ]
  },
  {
   "cell_type": "markdown",
   "metadata": {},
   "source": []
  },
  {
   "cell_type": "markdown",
   "metadata": {},
   "source": [
    "сохраним модель в pipeline"
   ]
  },
  {
   "cell_type": "code",
   "execution_count": 110,
   "metadata": {},
   "outputs": [],
   "source": [
    "import dill"
   ]
  },
  {
   "cell_type": "code",
   "execution_count": 111,
   "metadata": {},
   "outputs": [],
   "source": [
    "with open(\"fireclf_pipeline.dill\", \"wb\") as f:\n",
    "    dill.dump(pipeline, f)"
   ]
  },
  {
   "cell_type": "code",
   "execution_count": null,
   "metadata": {},
   "outputs": [],
   "source": []
  }
 ],
 "metadata": {
  "kernelspec": {
   "display_name": "Python 3",
   "language": "python",
   "name": "python3"
  },
  "language_info": {
   "codemirror_mode": {
    "name": "ipython",
    "version": 3
   },
   "file_extension": ".py",
   "mimetype": "text/x-python",
   "name": "python",
   "nbconvert_exporter": "python",
   "pygments_lexer": "ipython3",
   "version": "3.8.5"
  }
 },
 "nbformat": 4,
 "nbformat_minor": 4
}

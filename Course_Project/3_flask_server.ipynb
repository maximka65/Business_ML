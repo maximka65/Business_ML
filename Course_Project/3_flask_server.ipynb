{
 "cells": [
  {
   "cell_type": "code",
   "execution_count": 1,
   "metadata": {},
   "outputs": [],
   "source": [
    "from flask import Flask, request, jsonify\n",
    "import pandas as pd"
   ]
  },
  {
   "cell_type": "code",
   "execution_count": null,
   "metadata": {},
   "outputs": [],
   "source": []
  },
  {
   "cell_type": "code",
   "execution_count": 21,
   "metadata": {},
   "outputs": [
    {
     "name": "stdout",
     "output_type": "stream",
     "text": [
      " * Serving Flask app \"__main__\" (lazy loading)\n",
      " * Environment: production\n",
      "\u001b[31m   WARNING: This is a development server. Do not use it in a production deployment.\u001b[0m\n",
      "\u001b[2m   Use a production WSGI server instead.\u001b[0m\n",
      " * Debug mode: off\n"
     ]
    },
    {
     "name": "stderr",
     "output_type": "stream",
     "text": [
      " * Running on http://127.0.0.1:5000/ (Press CTRL+C to quit)\n"
     ]
    }
   ],
   "source": [
    "# Пробный запуск Flask\n",
    "\n",
    "app = Flask(__name__)\n",
    "\n",
    "@app.route(\"/a\")\n",
    "def hello():\n",
    "    return \"Hello World!\"\n",
    "\n",
    "if __name__ == '__main__':\n",
    "    app.run()"
   ]
  },
  {
   "cell_type": "code",
   "execution_count": 2,
   "metadata": {},
   "outputs": [],
   "source": [
    "import pandas as pd\n",
    "from sklearn.metrics import roc_auc_score,roc_curve\n",
    "import dill\n",
    "dill._dill._reverse_typemap['ClassType'] = type"
   ]
  },
  {
   "cell_type": "code",
   "execution_count": 3,
   "metadata": {},
   "outputs": [],
   "source": [
    "# Загружаем обученные модели\n",
    "with open('fireclf_pipeline.dill', 'rb') as in_strm:\n",
    "    model = dill.load(in_strm)"
   ]
  },
  {
   "cell_type": "code",
   "execution_count": 4,
   "metadata": {},
   "outputs": [],
   "source": [
    "X_test = pd.read_csv(\"X_test.csv\")\n",
    "y_test = pd.read_csv(\"y_test.csv\")"
   ]
  },
  {
   "cell_type": "code",
   "execution_count": null,
   "metadata": {},
   "outputs": [],
   "source": []
  },
  {
   "cell_type": "code",
   "execution_count": null,
   "metadata": {},
   "outputs": [
    {
     "name": "stdout",
     "output_type": "stream",
     "text": [
      " * Serving Flask app \"__main__\" (lazy loading)\n",
      " * Environment: production\n",
      "\u001b[31m   WARNING: This is a development server. Do not use it in a production deployment.\u001b[0m\n",
      "\u001b[2m   Use a production WSGI server instead.\u001b[0m\n",
      " * Debug mode: off\n"
     ]
    },
    {
     "name": "stderr",
     "output_type": "stream",
     "text": [
      " * Running on http://127.0.0.1:5000/ (Press CTRL+C to quit)\n",
      "127.0.0.1 - - [22/Jul/2021 23:01:22] \"\u001b[37mPOST /predict HTTP/1.1\u001b[0m\" 200 -\n",
      "127.0.0.1 - - [22/Jul/2021 23:01:29] \"\u001b[37mPOST /predict HTTP/1.1\u001b[0m\" 200 -\n",
      "127.0.0.1 - - [22/Jul/2021 23:01:31] \"\u001b[37mPOST /predict HTTP/1.1\u001b[0m\" 200 -\n",
      "127.0.0.1 - - [22/Jul/2021 23:01:32] \"\u001b[37mPOST /predict HTTP/1.1\u001b[0m\" 200 -\n",
      "127.0.0.1 - - [22/Jul/2021 23:01:32] \"\u001b[37mPOST /predict HTTP/1.1\u001b[0m\" 200 -\n",
      "[2021-07-22 23:01:32,947] ERROR in app: Exception on /predict [POST]\n",
      "Traceback (most recent call last):\n",
      "  File \"/Users/maximcucer/opt/anaconda3/lib/python3.8/site-packages/flask/app.py\", line 2447, in wsgi_app\n",
      "    response = self.full_dispatch_request()\n",
      "  File \"/Users/maximcucer/opt/anaconda3/lib/python3.8/site-packages/flask/app.py\", line 1952, in full_dispatch_request\n",
      "    rv = self.handle_user_exception(e)\n",
      "  File \"/Users/maximcucer/opt/anaconda3/lib/python3.8/site-packages/flask/app.py\", line 1821, in handle_user_exception\n",
      "    reraise(exc_type, exc_value, tb)\n",
      "  File \"/Users/maximcucer/opt/anaconda3/lib/python3.8/site-packages/flask/_compat.py\", line 39, in reraise\n",
      "    raise value\n",
      "  File \"/Users/maximcucer/opt/anaconda3/lib/python3.8/site-packages/flask/app.py\", line 1950, in full_dispatch_request\n",
      "    rv = self.dispatch_request()\n",
      "  File \"/Users/maximcucer/opt/anaconda3/lib/python3.8/site-packages/flask/app.py\", line 1936, in dispatch_request\n",
      "    return self.view_functions[rule.endpoint](**req.view_args)\n",
      "  File \"<ipython-input-5-7c04a471f160>\", line 66, in predict\n",
      "    'region_A': [region_A]}))\n",
      "UnboundLocalError: local variable 'region_A' referenced before assignment\n",
      "127.0.0.1 - - [22/Jul/2021 23:01:32] \"\u001b[35m\u001b[1mPOST /predict HTTP/1.1\u001b[0m\" 500 -\n",
      "127.0.0.1 - - [22/Jul/2021 23:01:44] \"\u001b[37mPOST /predict HTTP/1.1\u001b[0m\" 200 -\n",
      "127.0.0.1 - - [22/Jul/2021 23:01:45] \"\u001b[37mPOST /predict HTTP/1.1\u001b[0m\" 200 -\n",
      "127.0.0.1 - - [22/Jul/2021 23:01:46] \"\u001b[37mPOST /predict HTTP/1.1\u001b[0m\" 200 -\n",
      "127.0.0.1 - - [22/Jul/2021 23:01:47] \"\u001b[37mPOST /predict HTTP/1.1\u001b[0m\" 200 -\n",
      "127.0.0.1 - - [22/Jul/2021 23:01:47] \"\u001b[37mPOST /predict HTTP/1.1\u001b[0m\" 200 -\n",
      "127.0.0.1 - - [22/Jul/2021 23:01:47] \"\u001b[37mPOST /predict HTTP/1.1\u001b[0m\" 200 -\n",
      "127.0.0.1 - - [22/Jul/2021 23:01:47] \"\u001b[37mPOST /predict HTTP/1.1\u001b[0m\" 200 -\n",
      "127.0.0.1 - - [22/Jul/2021 23:01:47] \"\u001b[37mPOST /predict HTTP/1.1\u001b[0m\" 200 -\n",
      "127.0.0.1 - - [22/Jul/2021 23:01:47] \"\u001b[37mPOST /predict HTTP/1.1\u001b[0m\" 200 -\n",
      "127.0.0.1 - - [22/Jul/2021 23:01:47] \"\u001b[37mPOST /predict HTTP/1.1\u001b[0m\" 200 -\n",
      "127.0.0.1 - - [22/Jul/2021 23:01:47] \"\u001b[37mPOST /predict HTTP/1.1\u001b[0m\" 200 -\n",
      "127.0.0.1 - - [22/Jul/2021 23:01:47] \"\u001b[37mPOST /predict HTTP/1.1\u001b[0m\" 200 -\n",
      "127.0.0.1 - - [22/Jul/2021 23:01:47] \"\u001b[37mPOST /predict HTTP/1.1\u001b[0m\" 200 -\n",
      "127.0.0.1 - - [22/Jul/2021 23:01:47] \"\u001b[37mPOST /predict HTTP/1.1\u001b[0m\" 200 -\n",
      "127.0.0.1 - - [22/Jul/2021 23:01:47] \"\u001b[37mPOST /predict HTTP/1.1\u001b[0m\" 200 -\n",
      "127.0.0.1 - - [22/Jul/2021 23:01:47] \"\u001b[37mPOST /predict HTTP/1.1\u001b[0m\" 200 -\n",
      "127.0.0.1 - - [22/Jul/2021 23:01:47] \"\u001b[37mPOST /predict HTTP/1.1\u001b[0m\" 200 -\n",
      "127.0.0.1 - - [22/Jul/2021 23:01:47] \"\u001b[37mPOST /predict HTTP/1.1\u001b[0m\" 200 -\n",
      "127.0.0.1 - - [22/Jul/2021 23:01:48] \"\u001b[37mPOST /predict HTTP/1.1\u001b[0m\" 200 -\n",
      "127.0.0.1 - - [22/Jul/2021 23:01:48] \"\u001b[37mPOST /predict HTTP/1.1\u001b[0m\" 200 -\n",
      "127.0.0.1 - - [22/Jul/2021 23:01:48] \"\u001b[37mPOST /predict HTTP/1.1\u001b[0m\" 200 -\n",
      "127.0.0.1 - - [22/Jul/2021 23:01:48] \"\u001b[37mPOST /predict HTTP/1.1\u001b[0m\" 200 -\n",
      "127.0.0.1 - - [22/Jul/2021 23:01:48] \"\u001b[37mPOST /predict HTTP/1.1\u001b[0m\" 200 -\n",
      "127.0.0.1 - - [22/Jul/2021 23:01:48] \"\u001b[37mPOST /predict HTTP/1.1\u001b[0m\" 200 -\n",
      "127.0.0.1 - - [22/Jul/2021 23:01:48] \"\u001b[37mPOST /predict HTTP/1.1\u001b[0m\" 200 -\n",
      "127.0.0.1 - - [22/Jul/2021 23:01:48] \"\u001b[37mPOST /predict HTTP/1.1\u001b[0m\" 200 -\n",
      "127.0.0.1 - - [22/Jul/2021 23:01:48] \"\u001b[37mPOST /predict HTTP/1.1\u001b[0m\" 200 -\n",
      "127.0.0.1 - - [22/Jul/2021 23:01:48] \"\u001b[37mPOST /predict HTTP/1.1\u001b[0m\" 200 -\n",
      "127.0.0.1 - - [22/Jul/2021 23:01:48] \"\u001b[37mPOST /predict HTTP/1.1\u001b[0m\" 200 -\n",
      "127.0.0.1 - - [22/Jul/2021 23:01:48] \"\u001b[37mPOST /predict HTTP/1.1\u001b[0m\" 200 -\n",
      "127.0.0.1 - - [22/Jul/2021 23:01:48] \"\u001b[37mPOST /predict HTTP/1.1\u001b[0m\" 200 -\n",
      "127.0.0.1 - - [22/Jul/2021 23:01:48] \"\u001b[37mPOST /predict HTTP/1.1\u001b[0m\" 200 -\n",
      "127.0.0.1 - - [22/Jul/2021 23:01:48] \"\u001b[37mPOST /predict HTTP/1.1\u001b[0m\" 200 -\n",
      "127.0.0.1 - - [22/Jul/2021 23:01:48] \"\u001b[37mPOST /predict HTTP/1.1\u001b[0m\" 200 -\n",
      "127.0.0.1 - - [22/Jul/2021 23:01:48] \"\u001b[37mPOST /predict HTTP/1.1\u001b[0m\" 200 -\n",
      "127.0.0.1 - - [22/Jul/2021 23:01:48] \"\u001b[37mPOST /predict HTTP/1.1\u001b[0m\" 200 -\n",
      "127.0.0.1 - - [22/Jul/2021 23:01:48] \"\u001b[37mPOST /predict HTTP/1.1\u001b[0m\" 200 -\n",
      "127.0.0.1 - - [22/Jul/2021 23:01:48] \"\u001b[37mPOST /predict HTTP/1.1\u001b[0m\" 200 -\n",
      "127.0.0.1 - - [22/Jul/2021 23:01:48] \"\u001b[37mPOST /predict HTTP/1.1\u001b[0m\" 200 -\n",
      "127.0.0.1 - - [22/Jul/2021 23:01:48] \"\u001b[37mPOST /predict HTTP/1.1\u001b[0m\" 200 -\n",
      "127.0.0.1 - - [22/Jul/2021 23:01:48] \"\u001b[37mPOST /predict HTTP/1.1\u001b[0m\" 200 -\n",
      "127.0.0.1 - - [22/Jul/2021 23:01:48] \"\u001b[37mPOST /predict HTTP/1.1\u001b[0m\" 200 -\n",
      "127.0.0.1 - - [22/Jul/2021 23:01:48] \"\u001b[37mPOST /predict HTTP/1.1\u001b[0m\" 200 -\n",
      "127.0.0.1 - - [22/Jul/2021 23:01:48] \"\u001b[37mPOST /predict HTTP/1.1\u001b[0m\" 200 -\n",
      "127.0.0.1 - - [22/Jul/2021 23:01:48] \"\u001b[37mPOST /predict HTTP/1.1\u001b[0m\" 200 -\n",
      "127.0.0.1 - - [22/Jul/2021 23:01:48] \"\u001b[37mPOST /predict HTTP/1.1\u001b[0m\" 200 -\n",
      "127.0.0.1 - - [22/Jul/2021 23:01:48] \"\u001b[37mPOST /predict HTTP/1.1\u001b[0m\" 200 -\n",
      "127.0.0.1 - - [22/Jul/2021 23:01:48] \"\u001b[37mPOST /predict HTTP/1.1\u001b[0m\" 200 -\n",
      "127.0.0.1 - - [22/Jul/2021 23:01:48] \"\u001b[37mPOST /predict HTTP/1.1\u001b[0m\" 200 -\n",
      "127.0.0.1 - - [22/Jul/2021 23:01:48] \"\u001b[37mPOST /predict HTTP/1.1\u001b[0m\" 200 -\n",
      "127.0.0.1 - - [22/Jul/2021 23:01:48] \"\u001b[37mPOST /predict HTTP/1.1\u001b[0m\" 200 -\n",
      "127.0.0.1 - - [22/Jul/2021 23:01:48] \"\u001b[37mPOST /predict HTTP/1.1\u001b[0m\" 200 -\n"
     ]
    }
   ],
   "source": [
    "app = Flask(__name__)\n",
    "\n",
    "@app.route('/predict', methods=['GET', 'POST'])\n",
    "def predict():\n",
    "    data = {\"success\": False}\n",
    "  # ensure an image was properly uploaded to our endpoint\n",
    "    if request.method == \"POST\":\n",
    "        day, month, year, Temperature, RH, Ws, Rain, FMC,\\\n",
    "            DMC, DC, ISI, BUI, FWI = [0]*13\n",
    "        request_json = request.get_json()\n",
    "    if request_json[\"day\"]:\n",
    "        day = request_json['day']\n",
    "    \n",
    "    if request_json[\"month\"]:\n",
    "        month = request_json['month']\n",
    "    \n",
    "    if request_json[\"year\"]:\n",
    "        year = request_json['year']\n",
    "    \n",
    "    if request_json[\"Temperature\"]:\n",
    "        Temperature = request_json['Temperature']\n",
    "  \n",
    "    if request_json[\"RH\"]:\n",
    "        RH = request_json['RH']\n",
    "     \n",
    "    if request_json[\"Ws\"]:\n",
    "        Ws = request_json['Ws']\n",
    "    \n",
    "    if request_json[\"Rain\"]:\n",
    "        Rain = request_json['Rain']\n",
    "     \n",
    "    if request_json[\"FMC\"]:\n",
    "        FMC = request_json['FMC']\n",
    "    \n",
    "    if request_json[\"DMC\"]:\n",
    "        DMC = request_json['DMC']\n",
    "     \n",
    "    if request_json[\"DC\"]:\n",
    "        DC = request_json['DC']\n",
    "    \n",
    "    if request_json[\"ISI\"]:\n",
    "        ISI = request_json['ISI']\n",
    "     \n",
    "    if request_json[\"BUI\"]:\n",
    "        BUI = request_json['BUI']\n",
    "    \n",
    "    if request_json[\"FWI\"]:\n",
    "        FWI = request_json['FWI']\n",
    "    \n",
    "    if request_json[\"region_A\"]:\n",
    "        region_A = request_json['region_A'] + .1e-5\n",
    "        \n",
    "    preds = model.predict_proba(pd.DataFrame({'day': [day], \n",
    "                                              'month': [month], \n",
    "                                              'year': [year], \n",
    "                                              'Temperature': [Temperature], \n",
    "                                              'RH': [RH], \n",
    "                                              'Ws': [Ws], \n",
    "                                              'Rain': [Rain], \n",
    "                                              'FMC': [FMC],\n",
    "                                              'DMC': [DMC], \n",
    "                                              'DC': [DC], \n",
    "                                              'ISI': [ISI], \n",
    "                                              'BUI': [BUI], \n",
    "                                              'FWI': [FWI],\n",
    "                                              'region_A': [region_A]}))\n",
    "    data[\"predictions\"] = preds[:, 1][0]\n",
    "    data[\"success\"] = True\n",
    "\n",
    "\t# return the data dictionary as a JSON response\n",
    "    return jsonify(data)\n",
    "\n",
    "\n",
    "if __name__ == '__main__':\n",
    "    app.run()"
   ]
  },
  {
   "cell_type": "code",
   "execution_count": null,
   "metadata": {},
   "outputs": [],
   "source": [
    "body = {'day': 24, \n",
    "        'month': 7, \n",
    "        'year': 2012, \n",
    "        'Temperature': 28, \n",
    "        'RH': 78, \n",
    "        'Ws': 16, \n",
    "        'Rain': 0.1, \n",
    "        'FMC': 70,\n",
    "        'DMC': 9.6, \n",
    "        'DC': 79.7, \n",
    "        'ISI': 1.4, \n",
    "        'BUI': 14.7, \n",
    "        'FWI': 1.3,\n",
    "        'region_A': 0.0001}\n"
   ]
  },
  {
   "cell_type": "code",
   "execution_count": null,
   "metadata": {},
   "outputs": [],
   "source": [
    "with app.test_client() as c:\n",
    "    rv = c.post('/predict', json=body)\n",
    "    json_data = rv.get_json()\n",
    "    print(json_data['predictions'])"
   ]
  },
  {
   "cell_type": "code",
   "execution_count": null,
   "metadata": {},
   "outputs": [],
   "source": []
  }
 ],
 "metadata": {
  "kernelspec": {
   "display_name": "Python 3",
   "language": "python",
   "name": "python3"
  },
  "language_info": {
   "codemirror_mode": {
    "name": "ipython",
    "version": 3
   },
   "file_extension": ".py",
   "mimetype": "text/x-python",
   "name": "python",
   "nbconvert_exporter": "python",
   "pygments_lexer": "ipython3",
   "version": "3.8.5"
  },
  "widgets": {
   "application/vnd.jupyter.widget-state+json": {
    "state": {},
    "version_major": 2,
    "version_minor": 0
   }
  }
 },
 "nbformat": 4,
 "nbformat_minor": 4
}

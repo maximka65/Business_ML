{
 "cells": [
  {
   "cell_type": "markdown",
   "metadata": {
    "id": "WMkEPATUMIGE"
   },
   "source": [
    "#### Задача сегментации (неформальное определение)"
   ]
  },
  {
   "cell_type": "markdown",
   "metadata": {
    "id": "bxhWQlaTMIGF"
   },
   "source": [
    "Разбиваем пользователей на группы, чем-то отличающиеся друг от друга"
   ]
  },
  {
   "cell_type": "markdown",
   "metadata": {
    "id": "Sf4BT9PdMIGF"
   },
   "source": [
    "Если же более формально, то:\n",
    "\n",
    "Сегментация клиентской базы — это способ повышения эффективности работы с пользователями путем их распределения по отдельным группам, или сегментам, в соответствии с их запросами и/или потребностями."
   ]
  },
  {
   "cell_type": "code",
   "execution_count": 1,
   "metadata": {
    "colab": {
     "base_uri": "https://localhost:8080/"
    },
    "id": "1yqhFYoKOIIw",
    "outputId": "aa31a454-47d4-4509-e050-bc5139cd2281"
   },
   "outputs": [
    {
     "name": "stdout",
     "output_type": "stream",
     "text": [
      "Collecting razdel\n",
      "  Downloading razdel-0.5.0-py3-none-any.whl (21 kB)\n",
      "Installing collected packages: razdel\n",
      "Successfully installed razdel-0.5.0\n"
     ]
    }
   ],
   "source": [
    "!pip install razdel"
   ]
  },
  {
   "cell_type": "code",
   "execution_count": 2,
   "metadata": {
    "colab": {
     "base_uri": "https://localhost:8080/"
    },
    "id": "-sNoY9zpOQN7",
    "outputId": "49cb319c-b7c4-4f36-8fc8-23178b963be9"
   },
   "outputs": [
    {
     "name": "stdout",
     "output_type": "stream",
     "text": [
      "Collecting pymorphy2\n",
      "  Downloading pymorphy2-0.9.1-py3-none-any.whl (55 kB)\n",
      "\u001b[K     |████████████████████████████████| 55 kB 1.0 MB/s eta 0:00:01\n",
      "\u001b[?25hCollecting dawg-python>=0.7.1\n",
      "  Downloading DAWG_Python-0.7.2-py2.py3-none-any.whl (11 kB)\n",
      "Collecting pymorphy2-dicts-ru<3.0,>=2.4\n",
      "  Downloading pymorphy2_dicts_ru-2.4.417127.4579844-py2.py3-none-any.whl (8.2 MB)\n",
      "\u001b[K     |████████████████████████████████| 8.2 MB 1.7 MB/s eta 0:00:01\n",
      "\u001b[?25hCollecting docopt>=0.6\n",
      "  Downloading docopt-0.6.2.tar.gz (25 kB)\n",
      "Building wheels for collected packages: docopt\n",
      "  Building wheel for docopt (setup.py) ... \u001b[?25ldone\n",
      "\u001b[?25h  Created wheel for docopt: filename=docopt-0.6.2-py2.py3-none-any.whl size=13704 sha256=bef26e6490ffa185715014987e1b3e692e2cbcd9fb74cdf57b73b4b1a224ed2c\n",
      "  Stored in directory: /Users/maximcucer/Library/Caches/pip/wheels/56/ea/58/ead137b087d9e326852a851351d1debf4ada529b6ac0ec4e8c\n",
      "Successfully built docopt\n",
      "Installing collected packages: dawg-python, pymorphy2-dicts-ru, docopt, pymorphy2\n",
      "Successfully installed dawg-python-0.7.2 docopt-0.6.2 pymorphy2-0.9.1 pymorphy2-dicts-ru-2.4.417127.4579844\n"
     ]
    }
   ],
   "source": [
    "!pip install pymorphy2"
   ]
  },
  {
   "cell_type": "code",
   "execution_count": 3,
   "metadata": {
    "id": "ctZ-EA4UMIGh"
   },
   "outputs": [],
   "source": [
    "import pandas as pd"
   ]
  },
  {
   "cell_type": "code",
   "execution_count": 4,
   "metadata": {
    "colab": {
     "base_uri": "https://localhost:8080/",
     "height": 158
    },
    "id": "gycmprucMIGi",
    "outputId": "2bad351a-6bf4-4fa4-ca44-846172a2eead"
   },
   "outputs": [
    {
     "name": "stdout",
     "output_type": "stream",
     "text": [
      "(27000, 2)\n"
     ]
    },
    {
     "data": {
      "text/html": [
       "<div>\n",
       "<style scoped>\n",
       "    .dataframe tbody tr th:only-of-type {\n",
       "        vertical-align: middle;\n",
       "    }\n",
       "\n",
       "    .dataframe tbody tr th {\n",
       "        vertical-align: top;\n",
       "    }\n",
       "\n",
       "    .dataframe thead th {\n",
       "        text-align: right;\n",
       "    }\n",
       "</style>\n",
       "<table border=\"1\" class=\"dataframe\">\n",
       "  <thead>\n",
       "    <tr style=\"text-align: right;\">\n",
       "      <th></th>\n",
       "      <th>doc_id</th>\n",
       "      <th>title</th>\n",
       "    </tr>\n",
       "  </thead>\n",
       "  <tbody>\n",
       "    <tr>\n",
       "      <th>0</th>\n",
       "      <td>6</td>\n",
       "      <td>Заместитель председателяnправительства РФnСерг...</td>\n",
       "    </tr>\n",
       "    <tr>\n",
       "      <th>1</th>\n",
       "      <td>4896</td>\n",
       "      <td>Матч 1/16 финала Кубка России по футболу был п...</td>\n",
       "    </tr>\n",
       "    <tr>\n",
       "      <th>2</th>\n",
       "      <td>4897</td>\n",
       "      <td>Форвард «Авангарда» Томаш Заборский прокоммент...</td>\n",
       "    </tr>\n",
       "  </tbody>\n",
       "</table>\n",
       "</div>"
      ],
      "text/plain": [
       "   doc_id                                              title\n",
       "0       6  Заместитель председателяnправительства РФnСерг...\n",
       "1    4896  Матч 1/16 финала Кубка России по футболу был п...\n",
       "2    4897  Форвард «Авангарда» Томаш Заборский прокоммент..."
      ]
     },
     "execution_count": 4,
     "metadata": {},
     "output_type": "execute_result"
    }
   ],
   "source": [
    "news = pd.read_csv(\"articles.csv\")\n",
    "print(news.shape)\n",
    "news.head(3)"
   ]
  },
  {
   "cell_type": "markdown",
   "metadata": {
    "id": "H-eNWlDnMIGl"
   },
   "source": [
    "Загрузим пользователей и списки последних прочитанных новостей"
   ]
  },
  {
   "cell_type": "code",
   "execution_count": 5,
   "metadata": {
    "colab": {
     "base_uri": "https://localhost:8080/",
     "height": 142
    },
    "id": "rIXeUk4iMIGl",
    "outputId": "ce7115aa-cdf8-40a8-fb9d-6a86aef1c76b"
   },
   "outputs": [
    {
     "data": {
      "text/html": [
       "<div>\n",
       "<style scoped>\n",
       "    .dataframe tbody tr th:only-of-type {\n",
       "        vertical-align: middle;\n",
       "    }\n",
       "\n",
       "    .dataframe tbody tr th {\n",
       "        vertical-align: top;\n",
       "    }\n",
       "\n",
       "    .dataframe thead th {\n",
       "        text-align: right;\n",
       "    }\n",
       "</style>\n",
       "<table border=\"1\" class=\"dataframe\">\n",
       "  <thead>\n",
       "    <tr style=\"text-align: right;\">\n",
       "      <th></th>\n",
       "      <th>uid</th>\n",
       "      <th>articles</th>\n",
       "    </tr>\n",
       "  </thead>\n",
       "  <tbody>\n",
       "    <tr>\n",
       "      <th>0</th>\n",
       "      <td>u105138</td>\n",
       "      <td>[293672, 293328, 293001, 293622, 293126, 1852]</td>\n",
       "    </tr>\n",
       "    <tr>\n",
       "      <th>1</th>\n",
       "      <td>u108690</td>\n",
       "      <td>[3405, 1739, 2972, 1158, 1599, 322665]</td>\n",
       "    </tr>\n",
       "    <tr>\n",
       "      <th>2</th>\n",
       "      <td>u108339</td>\n",
       "      <td>[1845, 2009, 2356, 1424, 2939, 323389]</td>\n",
       "    </tr>\n",
       "  </tbody>\n",
       "</table>\n",
       "</div>"
      ],
      "text/plain": [
       "       uid                                        articles\n",
       "0  u105138  [293672, 293328, 293001, 293622, 293126, 1852]\n",
       "1  u108690          [3405, 1739, 2972, 1158, 1599, 322665]\n",
       "2  u108339          [1845, 2009, 2356, 1424, 2939, 323389]"
      ]
     },
     "execution_count": 5,
     "metadata": {},
     "output_type": "execute_result"
    }
   ],
   "source": [
    "users = pd.read_csv(\"users_articles.csv\")\n",
    "users.head(3)"
   ]
  },
  {
   "cell_type": "markdown",
   "metadata": {
    "id": "9kFAT-qMMIGm"
   },
   "source": [
    "Итак, нам нужно получить векторные представления пользователей на основе прочитанным ими новостей и самих новостей"
   ]
  },
  {
   "cell_type": "markdown",
   "metadata": {
    "id": "ra5jYUNoMIGm"
   },
   "source": [
    "### 1. Получаем векторные представления новостей"
   ]
  },
  {
   "cell_type": "code",
   "execution_count": 7,
   "metadata": {},
   "outputs": [
    {
     "name": "stdout",
     "output_type": "stream",
     "text": [
      "Collecting gensim\n",
      "  Downloading gensim-4.0.1-cp38-cp38-macosx_10_9_x86_64.whl (23.9 MB)\n",
      "\u001b[K     |████████████████████████████████| 23.9 MB 4.1 MB/s eta 0:00:01\n",
      "\u001b[?25hRequirement already satisfied: numpy>=1.11.3 in /Users/maximcucer/opt/anaconda3/lib/python3.8/site-packages (from gensim) (1.19.2)\n",
      "Collecting smart-open>=1.8.1\n",
      "  Downloading smart_open-5.1.0-py3-none-any.whl (57 kB)\n",
      "\u001b[K     |████████████████████████████████| 57 kB 1.5 MB/s eta 0:00:01\n",
      "\u001b[?25hRequirement already satisfied: scipy>=0.18.1 in /Users/maximcucer/opt/anaconda3/lib/python3.8/site-packages (from gensim) (1.5.2)\n",
      "Installing collected packages: smart-open, gensim\n",
      "Successfully installed gensim-4.0.1 smart-open-5.1.0\n"
     ]
    }
   ],
   "source": [
    "!pip install gensim"
   ]
  },
  {
   "cell_type": "code",
   "execution_count": 8,
   "metadata": {
    "id": "LBjgEo9DMIGm"
   },
   "outputs": [
    {
     "name": "stderr",
     "output_type": "stream",
     "text": [
      "/Users/maximcucer/opt/anaconda3/lib/python3.8/site-packages/gensim/similarities/__init__.py:15: UserWarning: The gensim.similarities.levenshtein submodule is disabled, because the optional Levenshtein package <https://pypi.org/project/python-Levenshtein/> is unavailable. Install Levenhstein (e.g. `pip install python-Levenshtein`) to suppress this warning.\n",
      "  warnings.warn(msg)\n"
     ]
    }
   ],
   "source": [
    "#from gensim.test.utils import common_texts\n",
    "#https://webdevblog.ru/gensim-rukovodstvo-dlya-nachinajushhih/\n",
    "from gensim.corpora.dictionary import Dictionary"
   ]
  },
  {
   "cell_type": "code",
   "execution_count": 9,
   "metadata": {
    "id": "pXp8Q2WNMIGn"
   },
   "outputs": [],
   "source": [
    "#предобработка текстов\n",
    "import re\n",
    "import numpy as np\n",
    "from nltk.corpus import stopwords\n",
    "#from nltk.tokenize import word_tokenize\n",
    "\n",
    "from razdel import tokenize # https://github.com/natasha/razdel\n",
    "#!pip install razdel\n",
    "\n",
    "import pymorphy2  # pip install pymorphy2"
   ]
  },
  {
   "cell_type": "code",
   "execution_count": 10,
   "metadata": {
    "colab": {
     "base_uri": "https://localhost:8080/"
    },
    "id": "ea5xiOOMOgla",
    "outputId": "b975b3bd-ae7e-4046-cf54-19d1afa9bf3c"
   },
   "outputs": [
    {
     "name": "stderr",
     "output_type": "stream",
     "text": [
      "[nltk_data] Downloading package stopwords to\n",
      "[nltk_data]     /Users/maximcucer/nltk_data...\n",
      "[nltk_data]   Unzipping corpora/stopwords.zip.\n"
     ]
    },
    {
     "data": {
      "text/plain": [
       "True"
      ]
     },
     "execution_count": 10,
     "metadata": {},
     "output_type": "execute_result"
    }
   ],
   "source": [
    "import nltk\n",
    "nltk.download('stopwords')"
   ]
  },
  {
   "cell_type": "code",
   "execution_count": 11,
   "metadata": {
    "id": "n4UkLRydMIGn"
   },
   "outputs": [],
   "source": [
    "stopword_ru = stopwords.words('russian')\n",
    "len(stopword_ru)\n",
    "\n",
    "morph = pymorphy2.MorphAnalyzer()"
   ]
  },
  {
   "cell_type": "code",
   "execution_count": 12,
   "metadata": {
    "colab": {
     "base_uri": "https://localhost:8080/"
    },
    "id": "JvD3j5zYEPZS",
    "outputId": "01a18b77-dc15-4e5d-d7de-949a7a312ece"
   },
   "outputs": [
    {
     "data": {
      "text/plain": [
       "151"
      ]
     },
     "execution_count": 12,
     "metadata": {},
     "output_type": "execute_result"
    }
   ],
   "source": [
    "len(stopword_ru)"
   ]
  },
  {
   "cell_type": "code",
   "execution_count": 13,
   "metadata": {
    "colab": {
     "base_uri": "https://localhost:8080/"
    },
    "id": "gRCY_H-LMIGo",
    "outputId": "47ccab7d-14a8-4e09-94d3-77bd31e8dfd0"
   },
   "outputs": [
    {
     "data": {
      "text/plain": [
       "776"
      ]
     },
     "execution_count": 13,
     "metadata": {},
     "output_type": "execute_result"
    }
   ],
   "source": [
    "with open('stopwords.txt') as f:\n",
    "    additional_stopwords = [w.strip() for w in f.readlines() if w]\n",
    "stopword_ru += additional_stopwords\n",
    "len(stopword_ru)"
   ]
  },
  {
   "cell_type": "code",
   "execution_count": 14,
   "metadata": {
    "colab": {
     "base_uri": "https://localhost:8080/",
     "height": 35
    },
    "id": "5zG-fPb7Et2-",
    "outputId": "dec02e86-b656-4fb9-9e20-124179cc05ef"
   },
   "outputs": [
    {
     "data": {
      "text/plain": [
       "'thru'"
      ]
     },
     "execution_count": 14,
     "metadata": {},
     "output_type": "execute_result"
    }
   ],
   "source": [
    "stopword_ru[-1]"
   ]
  },
  {
   "cell_type": "code",
   "execution_count": 15,
   "metadata": {
    "id": "DiAt1i81MIGp"
   },
   "outputs": [],
   "source": [
    "def clean_text(text):\n",
    "    '''\n",
    "    очистка текста\n",
    "    \n",
    "    на выходе очищеный текст\n",
    "    \n",
    "    '''\n",
    "    if not isinstance(text, str):\n",
    "        text = str(text)\n",
    "    \n",
    "    text = text.lower()\n",
    "    text = text.strip('\\n').strip('\\r').strip('\\t')\n",
    "    text = re.sub(\"-\\s\\r\\n\\|-\\s\\r\\n|\\r\\n\", '', str(text))\n",
    "\n",
    "    text = re.sub(\"[0-9]|[-—.,:;_%©«»?*!@#№$^•·&()]|[+=]|[[]|[]]|[/]|\", '', text)\n",
    "    text = re.sub(r\"\\r\\n\\t|\\n|\\\\s|\\r\\t|\\\\n\", ' ', text)\n",
    "    text = re.sub(r'[\\xad]|[\\s+]', ' ', text.strip())\n",
    "    text = re.sub(\"n\", ' ', text)\n",
    "\n",
    "    \n",
    "    #tokens = list(tokenize(text))\n",
    "    #words = [_.text for _ in tokens]\n",
    "    #words = [w for w in words if w not in stopword_ru]\n",
    "    \n",
    "    #return \" \".join(words)\n",
    "    return text\n",
    "\n",
    "cache = {}\n",
    "\n",
    "def lemmatization(text):\n",
    "    '''\n",
    "    лемматизация\n",
    "        [0] если зашел тип не `str` делаем его `str`\n",
    "        [1] токенизация предложения через razdel\n",
    "        [2] проверка есть ли в начале слова '-'\n",
    "        [3] проверка токена с одного символа\n",
    "        [4] проверка есть ли данное слово в кэше\n",
    "        [5] лемматизация слова\n",
    "        [6] проверка на стоп-слова\n",
    "\n",
    "    на выходе лист отлемматизированых токенов\n",
    "    '''\n",
    "\n",
    "    # [0]\n",
    "    if not isinstance(text, str):\n",
    "        text = str(text)\n",
    "    \n",
    "    # [1]\n",
    "    tokens = list(tokenize(text))\n",
    "    #print(tokens)\n",
    "    words = [_.text for _ in tokens]\n",
    "\n",
    "    words_lem = []\n",
    "    for w in words:\n",
    "        if w[0] == '-': # [2]\n",
    "            w = w[1:]\n",
    "        if len(w)>1: # [3]\n",
    "            if w in cache: # [4]\n",
    "                words_lem.append(cache[w])\n",
    "                #print(temp_cach)\n",
    "            else: # [5]\n",
    "                temp_cach = cache[w] = morph.parse(w)[0].normal_form\n",
    "                words_lem.append(temp_cach)\n",
    "                #print(w,' : ',temp_cach)\n",
    "    \n",
    "    words_lem_without_stopwords=[i for i in words_lem if not i in stopword_ru] # [6]\n",
    "    #print(words_lem_without_stopwords)\n",
    "    return words_lem_without_stopwords"
   ]
  },
  {
   "cell_type": "code",
   "execution_count": 16,
   "metadata": {
    "colab": {
     "base_uri": "https://localhost:8080/"
    },
    "id": "90aWsoUley3W",
    "outputId": "13b3e4bb-1d4f-43b6-f054-510779d02e14"
   },
   "outputs": [
    {
     "data": {
      "text/plain": [
       "[Substring(0, 11, 'Заместитель'),\n",
       " Substring(12, 24, 'председателя'),\n",
       " Substring(24, 25, 'n'),\n",
       " Substring(25, 38, 'правительства'),\n",
       " Substring(39, 41, 'РФ'),\n",
       " Substring(41, 42, 'n'),\n",
       " Substring(42, 48, 'Сергей'),\n",
       " Substring(48, 49, 'n'),\n",
       " Substring(49, 55, 'Иванов'),\n",
       " Substring(55, 56, 'n'),\n",
       " Substring(56, 62, 'избран'),\n",
       " Substring(63, 76, 'председателем'),\n",
       " Substring(77, 83, 'совета'),\n",
       " Substring(83, 84, 'n'),\n",
       " Substring(84, 87, 'ПБК'),\n",
       " Substring(88, 92, 'ЦСКА'),\n",
       " Substring(92, 93, 'n'),\n",
       " Substring(93, 94, '.'),\n",
       " Substring(95, 98, 'Как'),\n",
       " Substring(99, 100, 'с')]"
      ]
     },
     "execution_count": 16,
     "metadata": {},
     "output_type": "execute_result"
    }
   ],
   "source": [
    "list(tokenize(news.iloc[0,1][:100],   ))"
   ]
  },
  {
   "cell_type": "code",
   "execution_count": 17,
   "metadata": {
    "colab": {
     "base_uri": "https://localhost:8080/"
    },
    "id": "nZHNY8lqeA6a",
    "outputId": "89fe37ad-70de-4236-d2bf-7ced3ccefc6b"
   },
   "outputs": [
    {
     "name": "stderr",
     "output_type": "stream",
     "text": [
      "<ipython-input-15-8769e094367c>:15: FutureWarning: Possible nested set at position 39\n",
      "  text = re.sub(\"[0-9]|[-—.,:;_%©«»?*!@#№$^•·&()]|[+=]|[[]|[]]|[/]|\", '', text)\n"
     ]
    },
    {
     "data": {
      "text/plain": [
       "0    заместитель председателя правительства рф серг...\n",
       "1    матч  финала кубка россии по футболу был приос...\n",
       "Name: title, dtype: object"
      ]
     },
     "execution_count": 17,
     "metadata": {},
     "output_type": "execute_result"
    }
   ],
   "source": [
    "norm_text = news.iloc[:2,1].apply(lambda x: clean_text(x), 1)\n",
    "norm_text"
   ]
  },
  {
   "cell_type": "code",
   "execution_count": null,
   "metadata": {
    "colab": {
     "base_uri": "https://localhost:8080/"
    },
    "id": "VqgNGTEPGZnr",
    "outputId": "ddbb3763-72a4-4f56-bc77-30d8aed61ce8"
   },
   "outputs": [],
   "source": [
    "lemmatization(norm_text[0])"
   ]
  },
  {
   "cell_type": "code",
   "execution_count": 19,
   "metadata": {
    "colab": {
     "base_uri": "https://localhost:8080/"
    },
    "id": "KfixKuSMMIGq",
    "outputId": "27b24f3e-6195-4db0-eaa5-ce1a6efc1233"
   },
   "outputs": [
    {
     "name": "stdout",
     "output_type": "stream",
     "text": [
      "CPU times: user 24.8 s, sys: 616 ms, total: 25.4 s\n",
      "Wall time: 25.8 s\n"
     ]
    }
   ],
   "source": [
    "%%time\n",
    "#Запускаем очистку текста. Будет долго...\n",
    "news['title'] = news['title'].apply(lambda x: clean_text(x), 1)"
   ]
  },
  {
   "cell_type": "code",
   "execution_count": 20,
   "metadata": {
    "colab": {
     "base_uri": "https://localhost:8080/"
    },
    "id": "A0m01zNlMIGs",
    "outputId": "3ebcfd2a-21e9-426a-982f-19f4b5f0b7bf"
   },
   "outputs": [
    {
     "name": "stdout",
     "output_type": "stream",
     "text": [
      "CPU times: user 3min 32s, sys: 3.32 s, total: 3min 36s\n",
      "Wall time: 3min 45s\n"
     ]
    }
   ],
   "source": [
    "%%time\n",
    "#Запускаем лемматизацию текста. Будет очень долго...\n",
    "news['title'] = news['title'].apply(lambda x: lemmatization(x), 1)"
   ]
  },
  {
   "cell_type": "markdown",
   "metadata": {
    "id": "OMqHynF9MIGu"
   },
   "source": [
    "А теперь в 3 строчки обучим нашу модель"
   ]
  },
  {
   "cell_type": "code",
   "execution_count": 21,
   "metadata": {
    "id": "Yd6EZ8RbMIGu"
   },
   "outputs": [],
   "source": [
    "#сформируем список наших текстов, разбив еще и на пробелы\n",
    "texts = [t for t in news['title'].values]\n",
    "\n",
    "# Create a corpus from a list of texts\n",
    "common_dictionary = Dictionary(texts)\n",
    "common_corpus = [common_dictionary.doc2bow(text) for text in texts]"
   ]
  },
  {
   "cell_type": "markdown",
   "metadata": {
    "id": "hQfhjyspMIGv"
   },
   "source": [
    "Что такое common_dictionary и как он выглядит"
   ]
  },
  {
   "cell_type": "code",
   "execution_count": 22,
   "metadata": {
    "id": "MBAN3PvWMIGv"
   },
   "outputs": [
    {
     "data": {
      "text/plain": [
       "'банк'"
      ]
     },
     "execution_count": 22,
     "metadata": {},
     "output_type": "execute_result"
    }
   ],
   "source": [
    "common_dictionary[4]"
   ]
  },
  {
   "cell_type": "markdown",
   "metadata": {
    "id": "YKkuzl96nZ4f"
   },
   "source": [
    "Делаем BoW по списку слов"
   ]
  },
  {
   "cell_type": "code",
   "execution_count": 24,
   "metadata": {
    "colab": {
     "base_uri": "https://localhost:8080/"
    },
    "id": "QAalxqanm95I",
    "outputId": "cc37e9d5-91ad-4d43-b51a-e6c6e51737da"
   },
   "outputs": [
    {
     "data": {
      "text/plain": [
       "[(5, 2), (135645, 1), (135646, 1)]"
      ]
     },
     "execution_count": 24,
     "metadata": {},
     "output_type": "execute_result"
    }
   ],
   "source": [
    "common_dictionary.doc2bow(['баскетбол' ,'баскетбол' ,'наше', 'все'], allow_update=True)"
   ]
  },
  {
   "cell_type": "code",
   "execution_count": 25,
   "metadata": {
    "colab": {
     "base_uri": "https://localhost:8080/"
    },
    "id": "JSf5rfLjROW7",
    "outputId": "20b85d56-6822-4b58-cdc0-03d8214dbc7d"
   },
   "outputs": [
    {
     "data": {
      "text/plain": [
       "(0, 2)"
      ]
     },
     "execution_count": 25,
     "metadata": {},
     "output_type": "execute_result"
    }
   ],
   "source": [
    "common_corpus[0][0]"
   ]
  },
  {
   "cell_type": "code",
   "execution_count": 26,
   "metadata": {
    "colab": {
     "base_uri": "https://localhost:8080/"
    },
    "id": "mcQAiY4kRlAW",
    "outputId": "6d17a1f2-90de-4604-e324-ff269bb248d0"
   },
   "outputs": [
    {
     "data": {
      "text/plain": [
       "113"
      ]
     },
     "execution_count": 26,
     "metadata": {},
     "output_type": "execute_result"
    }
   ],
   "source": [
    "len(texts[0])"
   ]
  },
  {
   "cell_type": "markdown",
   "metadata": {
    "id": "jrkMUNueMIGv"
   },
   "source": [
    "Все просто - это словарь наших слов"
   ]
  },
  {
   "cell_type": "markdown",
   "metadata": {
    "id": "LksYgmAqMIGw"
   },
   "source": [
    "Запускаем обучение"
   ]
  },
  {
   "cell_type": "code",
   "execution_count": 28,
   "metadata": {
    "id": "vcBROvtBkGix"
   },
   "outputs": [],
   "source": [
    "N_topic = 15 # число тем - гиперпараметр"
   ]
  },
  {
   "cell_type": "code",
   "execution_count": 29,
   "metadata": {
    "colab": {
     "base_uri": "https://localhost:8080/"
    },
    "id": "xtKgOLXzMIGw",
    "outputId": "9bafd9b7-7958-4dff-a2c3-b03a383e1280"
   },
   "outputs": [
    {
     "name": "stdout",
     "output_type": "stream",
     "text": [
      "CPU times: user 44.5 s, sys: 856 ms, total: 45.3 s\n",
      "Wall time: 31.7 s\n"
     ]
    }
   ],
   "source": [
    "%%time\n",
    "from gensim.models import LdaModel\n",
    "# Train the model on the corpus.\n",
    "lda = LdaModel(common_corpus, num_topics=N_topic, id2word=common_dictionary)#, passes=10)"
   ]
  },
  {
   "cell_type": "code",
   "execution_count": 30,
   "metadata": {
    "id": "IyVZ-spdMIGx"
   },
   "outputs": [],
   "source": [
    "from gensim.test.utils import datapath\n",
    "# Save model to disk.\n",
    "temp_file = datapath(\"model.lda\")\n",
    "lda.save(temp_file)\n",
    "\n",
    "# Load a potentially pretrained model from disk.\n",
    "lda = LdaModel.load(temp_file)"
   ]
  },
  {
   "cell_type": "code",
   "execution_count": 31,
   "metadata": {
    "colab": {
     "base_uri": "https://localhost:8080/"
    },
    "id": "-stkuTDxMIGy",
    "outputId": "a38a6e08-f60a-4293-ae88-7015eb12f8a7"
   },
   "outputs": [
    {
     "name": "stdout",
     "output_type": "stream",
     "text": [
      "['форвард', 'авангард', 'томаш', 'заборский', 'прокомментировать', 'игра', 'команда', 'матч', 'чемпионат', 'кхл', 'против', 'атланта', 'плохой', 'матч', 'нижний', 'новгород', 'против', 'торпедо', 'настраиваться', 'первый', 'минута', 'включиться', 'заборский', 'получиться', 'забросить', 'быстрый', 'гол', 'задать', 'хороший', 'темп', 'поединок', 'играть', 'хороший', 'сторона', 'пять', 'очко', 'выезд', 'девять', 'хороший']\n"
     ]
    },
    {
     "data": {
      "text/plain": [
       "[(1, 0.21829744),\n",
       " (2, 0.04313166),\n",
       " (3, 0.33837476),\n",
       " (7, 0.34820512),\n",
       " (10, 0.033879638)]"
      ]
     },
     "execution_count": 31,
     "metadata": {},
     "output_type": "execute_result"
    }
   ],
   "source": [
    "# Create a new corpus, made of previously unseen documents.\n",
    "other_texts = [t for t in news['title'].iloc[:3]]\n",
    "other_corpus = [common_dictionary.doc2bow(text) for text in other_texts]\n",
    "\n",
    "unseen_doc = other_corpus[2]\n",
    "print(other_texts[2])\n",
    "lda[unseen_doc] "
   ]
  },
  {
   "cell_type": "code",
   "execution_count": 32,
   "metadata": {
    "colab": {
     "base_uri": "https://localhost:8080/"
    },
    "id": "Bbxd48b_MIGz",
    "outputId": "0309f0a1-4c9f-49b3-8da1-5ad0b91575e9"
   },
   "outputs": [
    {
     "name": "stdout",
     "output_type": "stream",
     "text": [
      "topic_0: гражданин ребёнок снижение школа украинский комиссия родитель доход закон экономика право украина народный решение социальный\n",
      "topic_1: рак век бомба тур образовать популярный испания таиланд золото золотой куба пить орден фрагмент отправляться\n",
      "topic_2: производитель препарат египет одежда актёр надпись майкл ньюйорк млн американский la кит сердце аркадий лосанджелес\n",
      "topic_3: ребёнок статья взрыв ракета земля космос скорость воздух риск продукция произойти всё день население удар\n",
      "topic_4: офицер турция авария захватить спасти бизнесмен реконструкция теория индия датчик чечня постановление мотив сражение умереть\n",
      "topic_5: путин владимир медведев дмитрий россия иск восток пресссекретарить флот песок поток глава предприниматель строительство испытание\n",
      "topic_6: убийство уголовный следствие преступление орган расследование законодательство следователь обвинение законопроект закон обвинять лицо приговор заключение\n",
      "topic_7: новый министерство проект научный большой проверка жизнь сайт статья первый товар университет газета торговый общество\n",
      "topic_8: погибнуть пенсия остров квартира памятник гражданин кровь треть парламент ведение упасть курение курить фронт фотография\n",
      "topic_9: рубль фонд банк млн тыс размер пострадать сотрудник составить управление около область сумма москва граница\n",
      "topic_10: самолёт военный корабль полёт армия войско море район космонавт боевой аэропорт катастрофа пилот воздушный сократиться\n",
      "topic_11: россия российский сша новый украина млрд рынок система рост вопрос развитие проект сторона власть правительство\n",
      "topic_12: газ тело смерть мозг данные журнал произойти женщина мужчина инцидент выяснить организм жертва штат помощь\n",
      "topic_13: исследование всё эксперт первый день новый место война большой очень дом последний газета технология наука\n",
      "topic_14: ракета температура экипаж двигатель первый запуск солнце высота ставка содержать анализ км активность километр выше\n"
     ]
    }
   ],
   "source": [
    "x=lda.show_topics(num_topics=N_topic, num_words=15,formatted=False)\n",
    "topics_words = [(tp[0], [wd[0] for wd in tp[1]]) for tp in x]\n",
    "\n",
    "#Below Code Prints Only Words \n",
    "for topic,words in topics_words:\n",
    "    print(\"topic_{}: \".format(topic)+\" \".join(words))"
   ]
  },
  {
   "cell_type": "markdown",
   "metadata": {
    "id": "gBlxgTZoMIG0"
   },
   "source": [
    "Очень неплохо - большинство тем вполне можно описать о чем они\n",
    "\n",
    "\n",
    "построим темы "
   ]
  },
  {
   "cell_type": "code",
   "execution_count": 33,
   "metadata": {
    "colab": {
     "base_uri": "https://localhost:8080/"
    },
    "id": "1vbGV31OtHHx",
    "outputId": "97e72642-7aa5-4c41-bad9-5a468f459a07"
   },
   "outputs": [
    {
     "data": {
      "text/plain": [
       "['ио',\n",
       " 'главное',\n",
       " 'тренер',\n",
       " 'вячеслав',\n",
       " 'буцай',\n",
       " 'прокомментировать',\n",
       " 'победа',\n",
       " 'югра',\n",
       " 'матч',\n",
       " 'регулярный',\n",
       " 'чемпионат',\n",
       " 'кхл',\n",
       " 'прежде',\n",
       " 'хотеть',\n",
       " 'поблагодарить',\n",
       " 'ребята',\n",
       " 'команда',\n",
       " 'передавать',\n",
       " 'официальный',\n",
       " 'сайт',\n",
       " 'югра',\n",
       " 'игра',\n",
       " 'начинаться',\n",
       " 'очень',\n",
       " 'удачно',\n",
       " 'пропустить',\n",
       " 'гол',\n",
       " 'первый',\n",
       " 'смена',\n",
       " 'долго',\n",
       " 'входить',\n",
       " 'игра',\n",
       " 'связать',\n",
       " 'дневный',\n",
       " 'матч',\n",
       " 'непривычный',\n",
       " 'плюс',\n",
       " 'третий',\n",
       " 'матч',\n",
       " 'сибирь',\n",
       " 'гдеть',\n",
       " 'ребята',\n",
       " 'чувствовать',\n",
       " 'скажем',\n",
       " 'сонный',\n",
       " 'второй',\n",
       " 'третий',\n",
       " 'период',\n",
       " 'показать',\n",
       " 'разбежаться',\n",
       " 'играть',\n",
       " 'правильно',\n",
       " 'появиться',\n",
       " 'момент',\n",
       " 'дотерпеть',\n",
       " 'заслуженно',\n",
       " 'победить']"
      ]
     },
     "execution_count": 33,
     "metadata": {},
     "output_type": "execute_result"
    }
   ],
   "source": [
    "news['title'].iloc[5]"
   ]
  },
  {
   "cell_type": "code",
   "execution_count": 34,
   "metadata": {
    "colab": {
     "base_uri": "https://localhost:8080/"
    },
    "id": "NzIVpjbQsK_8",
    "outputId": "7bb1fb56-82e8-4aee-e9cf-698a8dc54516"
   },
   "outputs": [
    {
     "data": {
      "text/plain": [
       "[(1, 0.23295301), (3, 0.6803939), (6, 0.06559218)]"
      ]
     },
     "execution_count": 34,
     "metadata": {},
     "output_type": "execute_result"
    }
   ],
   "source": [
    "lda[common_dictionary.doc2bow(news['title'].iloc[1])]"
   ]
  },
  {
   "cell_type": "markdown",
   "metadata": {
    "id": "ZqB953kTMIG0"
   },
   "source": [
    "Давайте напишем функцию, которая будет нам возвращать векторное представление новости"
   ]
  },
  {
   "cell_type": "code",
   "execution_count": 35,
   "metadata": {
    "id": "dKAc5hiVMIG1"
   },
   "outputs": [],
   "source": [
    "#text = news['title'].iloc[0]\n",
    "\n",
    "def get_lda_vector(text):\n",
    "    unseen_doc = common_dictionary.doc2bow(text)\n",
    "    lda_tuple = lda[unseen_doc]\n",
    "    not_null_topics = dict(zip([i[0] for i in lda_tuple], [i[1] for i in lda_tuple]))\n",
    "\n",
    "    output_vector = []\n",
    "    for i in range(N_topic):\n",
    "        if i not in not_null_topics:\n",
    "            output_vector.append(0)\n",
    "        else:\n",
    "            output_vector.append(not_null_topics[i])\n",
    "    return np.array(output_vector)"
   ]
  },
  {
   "cell_type": "code",
   "execution_count": 36,
   "metadata": {
    "colab": {
     "base_uri": "https://localhost:8080/",
     "height": 203
    },
    "id": "QKc4AAI5MIG2",
    "outputId": "b49366ac-ce7d-4c22-8a72-4a0c97e60e0d"
   },
   "outputs": [
    {
     "data": {
      "text/html": [
       "<div>\n",
       "<style scoped>\n",
       "    .dataframe tbody tr th:only-of-type {\n",
       "        vertical-align: middle;\n",
       "    }\n",
       "\n",
       "    .dataframe tbody tr th {\n",
       "        vertical-align: top;\n",
       "    }\n",
       "\n",
       "    .dataframe thead th {\n",
       "        text-align: right;\n",
       "    }\n",
       "</style>\n",
       "<table border=\"1\" class=\"dataframe\">\n",
       "  <thead>\n",
       "    <tr style=\"text-align: right;\">\n",
       "      <th></th>\n",
       "      <th>doc_id</th>\n",
       "      <th>topic_0</th>\n",
       "      <th>topic_1</th>\n",
       "      <th>topic_2</th>\n",
       "      <th>topic_3</th>\n",
       "      <th>topic_4</th>\n",
       "      <th>topic_5</th>\n",
       "      <th>topic_6</th>\n",
       "      <th>topic_7</th>\n",
       "      <th>topic_8</th>\n",
       "      <th>topic_9</th>\n",
       "      <th>topic_10</th>\n",
       "      <th>topic_11</th>\n",
       "      <th>topic_12</th>\n",
       "      <th>topic_13</th>\n",
       "      <th>topic_14</th>\n",
       "    </tr>\n",
       "  </thead>\n",
       "  <tbody>\n",
       "    <tr>\n",
       "      <th>0</th>\n",
       "      <td>6</td>\n",
       "      <td>0.0</td>\n",
       "      <td>0.037417</td>\n",
       "      <td>0.000000</td>\n",
       "      <td>0.000000</td>\n",
       "      <td>0.0</td>\n",
       "      <td>0.0</td>\n",
       "      <td>0.051916</td>\n",
       "      <td>0.000000</td>\n",
       "      <td>0.0</td>\n",
       "      <td>0.439856</td>\n",
       "      <td>0.000000</td>\n",
       "      <td>0.463636</td>\n",
       "      <td>0.000000</td>\n",
       "      <td>0.000000</td>\n",
       "      <td>0.000000</td>\n",
       "    </tr>\n",
       "    <tr>\n",
       "      <th>1</th>\n",
       "      <td>4896</td>\n",
       "      <td>0.0</td>\n",
       "      <td>0.232952</td>\n",
       "      <td>0.000000</td>\n",
       "      <td>0.680396</td>\n",
       "      <td>0.0</td>\n",
       "      <td>0.0</td>\n",
       "      <td>0.065591</td>\n",
       "      <td>0.000000</td>\n",
       "      <td>0.0</td>\n",
       "      <td>0.000000</td>\n",
       "      <td>0.000000</td>\n",
       "      <td>0.000000</td>\n",
       "      <td>0.000000</td>\n",
       "      <td>0.000000</td>\n",
       "      <td>0.000000</td>\n",
       "    </tr>\n",
       "    <tr>\n",
       "      <th>2</th>\n",
       "      <td>4897</td>\n",
       "      <td>0.0</td>\n",
       "      <td>0.218302</td>\n",
       "      <td>0.043166</td>\n",
       "      <td>0.338394</td>\n",
       "      <td>0.0</td>\n",
       "      <td>0.0</td>\n",
       "      <td>0.000000</td>\n",
       "      <td>0.348155</td>\n",
       "      <td>0.0</td>\n",
       "      <td>0.000000</td>\n",
       "      <td>0.033871</td>\n",
       "      <td>0.000000</td>\n",
       "      <td>0.000000</td>\n",
       "      <td>0.000000</td>\n",
       "      <td>0.000000</td>\n",
       "    </tr>\n",
       "    <tr>\n",
       "      <th>3</th>\n",
       "      <td>4898</td>\n",
       "      <td>0.0</td>\n",
       "      <td>0.067863</td>\n",
       "      <td>0.000000</td>\n",
       "      <td>0.000000</td>\n",
       "      <td>0.0</td>\n",
       "      <td>0.0</td>\n",
       "      <td>0.000000</td>\n",
       "      <td>0.311820</td>\n",
       "      <td>0.0</td>\n",
       "      <td>0.000000</td>\n",
       "      <td>0.000000</td>\n",
       "      <td>0.000000</td>\n",
       "      <td>0.000000</td>\n",
       "      <td>0.333052</td>\n",
       "      <td>0.277578</td>\n",
       "    </tr>\n",
       "    <tr>\n",
       "      <th>4</th>\n",
       "      <td>4899</td>\n",
       "      <td>0.0</td>\n",
       "      <td>0.101886</td>\n",
       "      <td>0.000000</td>\n",
       "      <td>0.000000</td>\n",
       "      <td>0.0</td>\n",
       "      <td>0.0</td>\n",
       "      <td>0.000000</td>\n",
       "      <td>0.089424</td>\n",
       "      <td>0.0</td>\n",
       "      <td>0.000000</td>\n",
       "      <td>0.000000</td>\n",
       "      <td>0.671106</td>\n",
       "      <td>0.115957</td>\n",
       "      <td>0.000000</td>\n",
       "      <td>0.000000</td>\n",
       "    </tr>\n",
       "  </tbody>\n",
       "</table>\n",
       "</div>"
      ],
      "text/plain": [
       "   doc_id  topic_0   topic_1   topic_2   topic_3  topic_4  topic_5   topic_6  \\\n",
       "0       6      0.0  0.037417  0.000000  0.000000      0.0      0.0  0.051916   \n",
       "1    4896      0.0  0.232952  0.000000  0.680396      0.0      0.0  0.065591   \n",
       "2    4897      0.0  0.218302  0.043166  0.338394      0.0      0.0  0.000000   \n",
       "3    4898      0.0  0.067863  0.000000  0.000000      0.0      0.0  0.000000   \n",
       "4    4899      0.0  0.101886  0.000000  0.000000      0.0      0.0  0.000000   \n",
       "\n",
       "    topic_7  topic_8   topic_9  topic_10  topic_11  topic_12  topic_13  \\\n",
       "0  0.000000      0.0  0.439856  0.000000  0.463636  0.000000  0.000000   \n",
       "1  0.000000      0.0  0.000000  0.000000  0.000000  0.000000  0.000000   \n",
       "2  0.348155      0.0  0.000000  0.033871  0.000000  0.000000  0.000000   \n",
       "3  0.311820      0.0  0.000000  0.000000  0.000000  0.000000  0.333052   \n",
       "4  0.089424      0.0  0.000000  0.000000  0.671106  0.115957  0.000000   \n",
       "\n",
       "   topic_14  \n",
       "0  0.000000  \n",
       "1  0.000000  \n",
       "2  0.000000  \n",
       "3  0.277578  \n",
       "4  0.000000  "
      ]
     },
     "execution_count": 36,
     "metadata": {},
     "output_type": "execute_result"
    }
   ],
   "source": [
    "topic_matrix = pd.DataFrame([get_lda_vector(text) for text in news['title'].values])\n",
    "topic_matrix.columns = ['topic_{}'.format(i) for i in range(N_topic)]\n",
    "topic_matrix['doc_id'] = news['doc_id'].values\n",
    "topic_matrix = topic_matrix[['doc_id']+['topic_{}'.format(i) for i in range(N_topic)]]\n",
    "topic_matrix.head(5)"
   ]
  },
  {
   "cell_type": "code",
   "execution_count": 37,
   "metadata": {
    "colab": {
     "base_uri": "https://localhost:8080/",
     "height": 203
    },
    "id": "EHZFcqJKo0D8",
    "outputId": "f59c31de-70b1-4e8d-e09d-b06ceee36a6f"
   },
   "outputs": [
    {
     "data": {
      "text/html": [
       "<div>\n",
       "<style scoped>\n",
       "    .dataframe tbody tr th:only-of-type {\n",
       "        vertical-align: middle;\n",
       "    }\n",
       "\n",
       "    .dataframe tbody tr th {\n",
       "        vertical-align: top;\n",
       "    }\n",
       "\n",
       "    .dataframe thead th {\n",
       "        text-align: right;\n",
       "    }\n",
       "</style>\n",
       "<table border=\"1\" class=\"dataframe\">\n",
       "  <thead>\n",
       "    <tr style=\"text-align: right;\">\n",
       "      <th></th>\n",
       "      <th>doc_id</th>\n",
       "      <th>topic_0</th>\n",
       "      <th>topic_1</th>\n",
       "      <th>topic_2</th>\n",
       "      <th>topic_3</th>\n",
       "      <th>topic_4</th>\n",
       "      <th>topic_5</th>\n",
       "      <th>topic_6</th>\n",
       "      <th>topic_7</th>\n",
       "      <th>topic_8</th>\n",
       "      <th>topic_9</th>\n",
       "      <th>topic_10</th>\n",
       "      <th>topic_11</th>\n",
       "      <th>topic_12</th>\n",
       "      <th>topic_13</th>\n",
       "      <th>topic_14</th>\n",
       "    </tr>\n",
       "  </thead>\n",
       "  <tbody>\n",
       "    <tr>\n",
       "      <th>0</th>\n",
       "      <td>6</td>\n",
       "      <td>0.0</td>\n",
       "      <td>0.037417</td>\n",
       "      <td>0.000000</td>\n",
       "      <td>0.000000</td>\n",
       "      <td>0.0</td>\n",
       "      <td>0.0</td>\n",
       "      <td>0.051916</td>\n",
       "      <td>0.000000</td>\n",
       "      <td>0.0</td>\n",
       "      <td>0.439856</td>\n",
       "      <td>0.000000</td>\n",
       "      <td>0.463636</td>\n",
       "      <td>0.000000</td>\n",
       "      <td>0.000000</td>\n",
       "      <td>0.000000</td>\n",
       "    </tr>\n",
       "    <tr>\n",
       "      <th>1</th>\n",
       "      <td>4896</td>\n",
       "      <td>0.0</td>\n",
       "      <td>0.232952</td>\n",
       "      <td>0.000000</td>\n",
       "      <td>0.680396</td>\n",
       "      <td>0.0</td>\n",
       "      <td>0.0</td>\n",
       "      <td>0.065591</td>\n",
       "      <td>0.000000</td>\n",
       "      <td>0.0</td>\n",
       "      <td>0.000000</td>\n",
       "      <td>0.000000</td>\n",
       "      <td>0.000000</td>\n",
       "      <td>0.000000</td>\n",
       "      <td>0.000000</td>\n",
       "      <td>0.000000</td>\n",
       "    </tr>\n",
       "    <tr>\n",
       "      <th>2</th>\n",
       "      <td>4897</td>\n",
       "      <td>0.0</td>\n",
       "      <td>0.218302</td>\n",
       "      <td>0.043166</td>\n",
       "      <td>0.338394</td>\n",
       "      <td>0.0</td>\n",
       "      <td>0.0</td>\n",
       "      <td>0.000000</td>\n",
       "      <td>0.348155</td>\n",
       "      <td>0.0</td>\n",
       "      <td>0.000000</td>\n",
       "      <td>0.033871</td>\n",
       "      <td>0.000000</td>\n",
       "      <td>0.000000</td>\n",
       "      <td>0.000000</td>\n",
       "      <td>0.000000</td>\n",
       "    </tr>\n",
       "    <tr>\n",
       "      <th>3</th>\n",
       "      <td>4898</td>\n",
       "      <td>0.0</td>\n",
       "      <td>0.067863</td>\n",
       "      <td>0.000000</td>\n",
       "      <td>0.000000</td>\n",
       "      <td>0.0</td>\n",
       "      <td>0.0</td>\n",
       "      <td>0.000000</td>\n",
       "      <td>0.311820</td>\n",
       "      <td>0.0</td>\n",
       "      <td>0.000000</td>\n",
       "      <td>0.000000</td>\n",
       "      <td>0.000000</td>\n",
       "      <td>0.000000</td>\n",
       "      <td>0.333052</td>\n",
       "      <td>0.277578</td>\n",
       "    </tr>\n",
       "    <tr>\n",
       "      <th>4</th>\n",
       "      <td>4899</td>\n",
       "      <td>0.0</td>\n",
       "      <td>0.101886</td>\n",
       "      <td>0.000000</td>\n",
       "      <td>0.000000</td>\n",
       "      <td>0.0</td>\n",
       "      <td>0.0</td>\n",
       "      <td>0.000000</td>\n",
       "      <td>0.089424</td>\n",
       "      <td>0.0</td>\n",
       "      <td>0.000000</td>\n",
       "      <td>0.000000</td>\n",
       "      <td>0.671106</td>\n",
       "      <td>0.115957</td>\n",
       "      <td>0.000000</td>\n",
       "      <td>0.000000</td>\n",
       "    </tr>\n",
       "  </tbody>\n",
       "</table>\n",
       "</div>"
      ],
      "text/plain": [
       "   doc_id  topic_0   topic_1   topic_2   topic_3  topic_4  topic_5   topic_6  \\\n",
       "0       6      0.0  0.037417  0.000000  0.000000      0.0      0.0  0.051916   \n",
       "1    4896      0.0  0.232952  0.000000  0.680396      0.0      0.0  0.065591   \n",
       "2    4897      0.0  0.218302  0.043166  0.338394      0.0      0.0  0.000000   \n",
       "3    4898      0.0  0.067863  0.000000  0.000000      0.0      0.0  0.000000   \n",
       "4    4899      0.0  0.101886  0.000000  0.000000      0.0      0.0  0.000000   \n",
       "\n",
       "    topic_7  topic_8   topic_9  topic_10  topic_11  topic_12  topic_13  \\\n",
       "0  0.000000      0.0  0.439856  0.000000  0.463636  0.000000  0.000000   \n",
       "1  0.000000      0.0  0.000000  0.000000  0.000000  0.000000  0.000000   \n",
       "2  0.348155      0.0  0.000000  0.033871  0.000000  0.000000  0.000000   \n",
       "3  0.311820      0.0  0.000000  0.000000  0.000000  0.000000  0.333052   \n",
       "4  0.089424      0.0  0.000000  0.000000  0.671106  0.115957  0.000000   \n",
       "\n",
       "   topic_14  \n",
       "0  0.000000  \n",
       "1  0.000000  \n",
       "2  0.000000  \n",
       "3  0.277578  \n",
       "4  0.000000  "
      ]
     },
     "execution_count": 37,
     "metadata": {},
     "output_type": "execute_result"
    }
   ],
   "source": [
    "topic_matrix.head()"
   ]
  },
  {
   "cell_type": "markdown",
   "metadata": {
    "id": "MbQgZQ3MMIG2"
   },
   "source": [
    "Прекрасно, мы получили вектора наших новостей! И даже умеем интерпретировать получившиеся темы.\n",
    "\n",
    "Можно двигаться далее"
   ]
  },
  {
   "cell_type": "markdown",
   "metadata": {
    "id": "z0JACLjHMIG3"
   },
   "source": [
    "#### векторные представления пользователей"
   ]
  },
  {
   "cell_type": "code",
   "execution_count": 38,
   "metadata": {
    "colab": {
     "base_uri": "https://localhost:8080/",
     "height": 357
    },
    "id": "7IcoyDauMIG3",
    "outputId": "1ac9216c-6721-4554-ca7d-8abf52ab377f",
    "scrolled": true
   },
   "outputs": [
    {
     "data": {
      "text/html": [
       "<div>\n",
       "<style scoped>\n",
       "    .dataframe tbody tr th:only-of-type {\n",
       "        vertical-align: middle;\n",
       "    }\n",
       "\n",
       "    .dataframe tbody tr th {\n",
       "        vertical-align: top;\n",
       "    }\n",
       "\n",
       "    .dataframe thead th {\n",
       "        text-align: right;\n",
       "    }\n",
       "</style>\n",
       "<table border=\"1\" class=\"dataframe\">\n",
       "  <thead>\n",
       "    <tr style=\"text-align: right;\">\n",
       "      <th></th>\n",
       "      <th>uid</th>\n",
       "      <th>articles</th>\n",
       "    </tr>\n",
       "  </thead>\n",
       "  <tbody>\n",
       "    <tr>\n",
       "      <th>0</th>\n",
       "      <td>u105138</td>\n",
       "      <td>[293672, 293328, 293001, 293622, 293126, 1852]</td>\n",
       "    </tr>\n",
       "    <tr>\n",
       "      <th>1</th>\n",
       "      <td>u108690</td>\n",
       "      <td>[3405, 1739, 2972, 1158, 1599, 322665]</td>\n",
       "    </tr>\n",
       "    <tr>\n",
       "      <th>2</th>\n",
       "      <td>u108339</td>\n",
       "      <td>[1845, 2009, 2356, 1424, 2939, 323389]</td>\n",
       "    </tr>\n",
       "    <tr>\n",
       "      <th>3</th>\n",
       "      <td>u101138</td>\n",
       "      <td>[5933, 6186, 5055, 6977, 5206, 488389]</td>\n",
       "    </tr>\n",
       "    <tr>\n",
       "      <th>4</th>\n",
       "      <td>u108248</td>\n",
       "      <td>[707, 1144, 2532, 2928, 3133, 324592]</td>\n",
       "    </tr>\n",
       "    <tr>\n",
       "      <th>5</th>\n",
       "      <td>u106662</td>\n",
       "      <td>[323868, 323426, 324267, 322426, 324104, 1550]</td>\n",
       "    </tr>\n",
       "    <tr>\n",
       "      <th>6</th>\n",
       "      <td>u105949</td>\n",
       "      <td>[293138, 294471, 295012, 294736, 293949, 3544]</td>\n",
       "    </tr>\n",
       "    <tr>\n",
       "      <th>7</th>\n",
       "      <td>u102457</td>\n",
       "      <td>[6928, 5009, 6940, 7629, 7644, 512736]</td>\n",
       "    </tr>\n",
       "    <tr>\n",
       "      <th>8</th>\n",
       "      <td>u104124</td>\n",
       "      <td>[322838, 324699, 322991, 322120, 324327, 472331]</td>\n",
       "    </tr>\n",
       "    <tr>\n",
       "      <th>9</th>\n",
       "      <td>u101386</td>\n",
       "      <td>[7827, 6427, 7394, 7151, 6335, 487254]</td>\n",
       "    </tr>\n",
       "  </tbody>\n",
       "</table>\n",
       "</div>"
      ],
      "text/plain": [
       "       uid                                          articles\n",
       "0  u105138    [293672, 293328, 293001, 293622, 293126, 1852]\n",
       "1  u108690            [3405, 1739, 2972, 1158, 1599, 322665]\n",
       "2  u108339            [1845, 2009, 2356, 1424, 2939, 323389]\n",
       "3  u101138            [5933, 6186, 5055, 6977, 5206, 488389]\n",
       "4  u108248             [707, 1144, 2532, 2928, 3133, 324592]\n",
       "5  u106662    [323868, 323426, 324267, 322426, 324104, 1550]\n",
       "6  u105949    [293138, 294471, 295012, 294736, 293949, 3544]\n",
       "7  u102457            [6928, 5009, 6940, 7629, 7644, 512736]\n",
       "8  u104124  [322838, 324699, 322991, 322120, 324327, 472331]\n",
       "9  u101386            [7827, 6427, 7394, 7151, 6335, 487254]"
      ]
     },
     "execution_count": 38,
     "metadata": {},
     "output_type": "execute_result"
    }
   ],
   "source": [
    "users.head(10)"
   ]
  },
  {
   "cell_type": "code",
   "execution_count": 39,
   "metadata": {
    "id": "U2pcSIBDMIG4"
   },
   "outputs": [],
   "source": [
    "doc_dict = dict(zip(topic_matrix['doc_id'].values, topic_matrix[['topic_{}'.format(i) for i in range(N_topic)]].values))"
   ]
  },
  {
   "cell_type": "code",
   "execution_count": 40,
   "metadata": {
    "colab": {
     "base_uri": "https://localhost:8080/"
    },
    "id": "wG7wI5TfMIG4",
    "outputId": "c69f86f0-6180-4c26-c600-45bcd0958ab8"
   },
   "outputs": [
    {
     "data": {
      "text/plain": [
       "array([0.09996675, 0.02229423, 0.14711948, 0.04643873, 0.        ,\n",
       "       0.07947966, 0.06810953, 0.20583098, 0.04187484, 0.        ,\n",
       "       0.        , 0.        , 0.        , 0.28231272, 0.        ])"
      ]
     },
     "execution_count": 40,
     "metadata": {},
     "output_type": "execute_result"
    }
   ],
   "source": [
    "doc_dict[293622]"
   ]
  },
  {
   "cell_type": "code",
   "execution_count": 41,
   "metadata": {
    "id": "6ssOp3RkMIG5"
   },
   "outputs": [],
   "source": [
    "user_articles_list = users['articles'].iloc[33]\n",
    "\n",
    "def get_user_embedding_max(user_articles_list):\n",
    "    user_articles_list = eval(user_articles_list)\n",
    "    user_vector = np.array([doc_dict[doc_id] for doc_id in user_articles_list])\n",
    "    #print(user_vector)\n",
    "    user_vector1 = np.max(user_vector, 0)  # можно не средний\n",
    "    return user_vector1 #,user_vector\n",
    "\n",
    "def get_user_embedding_mean(user_articles_list):\n",
    "    user_articles_list = eval(user_articles_list)\n",
    "    user_vector = np.array([doc_dict[doc_id] for doc_id in user_articles_list])\n",
    "    #print(user_vector)\n",
    "    user_vector1 = np.mean(user_vector, 0)  # можно не средний\n",
    "    return user_vector1 #,user_vector\n",
    "\n",
    "def get_user_embedding_median(user_articles_list):\n",
    "    user_articles_list = eval(user_articles_list)\n",
    "    user_vector = np.array([doc_dict[doc_id] for doc_id in user_articles_list])\n",
    "    #print(user_vector)\n",
    "    user_vector1 = np.median(user_vector, 0)  # можно не средний\n",
    "    return user_vector1 #,user_vector"
   ]
  },
  {
   "cell_type": "code",
   "execution_count": 42,
   "metadata": {
    "id": "UKfTfcyKMDLq"
   },
   "outputs": [],
   "source": [
    "user_articles_list = users['articles'].iloc[33]"
   ]
  },
  {
   "cell_type": "code",
   "execution_count": 43,
   "metadata": {
    "colab": {
     "base_uri": "https://localhost:8080/"
    },
    "id": "kn0IxR3vMIG5",
    "outputId": "b216c294-dbc3-4249-b0ea-aad5e0aeeb4b"
   },
   "outputs": [
    {
     "data": {
      "text/plain": [
       "array([0.51725131, 0.11298499, 0.0293515 , 0.07537486, 0.        ,\n",
       "       0.51216447, 0.47130501, 0.02875073, 0.01395029, 0.36194807,\n",
       "       0.16290191, 0.73313242, 0.0615635 , 0.46944791, 0.09946848])"
      ]
     },
     "execution_count": 43,
     "metadata": {},
     "output_type": "execute_result"
    }
   ],
   "source": [
    "vv = get_user_embedding_max(user_articles_list)\n",
    "vv"
   ]
  },
  {
   "cell_type": "code",
   "execution_count": 44,
   "metadata": {
    "id": "vw-UHq1PLiD6"
   },
   "outputs": [],
   "source": [
    "import matplotlib.pyplot as plt"
   ]
  },
  {
   "cell_type": "markdown",
   "metadata": {
    "id": "bbJ6STRBMIG6"
   },
   "source": [
    "Интересовался новостями с топиками topic_3, topic_14 (что-то про политику и государство)"
   ]
  },
  {
   "cell_type": "code",
   "execution_count": 45,
   "metadata": {
    "id": "3UPXZgsVMIG6"
   },
   "outputs": [],
   "source": [
    "#users['articles'].iloc[33]"
   ]
  },
  {
   "cell_type": "code",
   "execution_count": 46,
   "metadata": {
    "id": "bDJCMtAFMIG7",
    "scrolled": true
   },
   "outputs": [],
   "source": [
    "#\" \".join(news[news['doc_id']==323186]['title'].iloc[0])"
   ]
  },
  {
   "cell_type": "markdown",
   "metadata": {
    "id": "tk9q6qrVMIG7"
   },
   "source": [
    "Теперь получим эмбединги для всех пользователей и проверим их качество на конкретной downstream-задаче"
   ]
  },
  {
   "cell_type": "code",
   "execution_count": 63,
   "metadata": {
    "colab": {
     "base_uri": "https://localhost:8080/",
     "height": 142
    },
    "id": "2gJ71BPbMIG8",
    "outputId": "4c0b2344-f3f4-4567-f806-a83ba4cca033"
   },
   "outputs": [
    {
     "data": {
      "text/html": [
       "<div>\n",
       "<style scoped>\n",
       "    .dataframe tbody tr th:only-of-type {\n",
       "        vertical-align: middle;\n",
       "    }\n",
       "\n",
       "    .dataframe tbody tr th {\n",
       "        vertical-align: top;\n",
       "    }\n",
       "\n",
       "    .dataframe thead th {\n",
       "        text-align: right;\n",
       "    }\n",
       "</style>\n",
       "<table border=\"1\" class=\"dataframe\">\n",
       "  <thead>\n",
       "    <tr style=\"text-align: right;\">\n",
       "      <th></th>\n",
       "      <th>uid</th>\n",
       "      <th>topic_0</th>\n",
       "      <th>topic_1</th>\n",
       "      <th>topic_2</th>\n",
       "      <th>topic_3</th>\n",
       "      <th>topic_4</th>\n",
       "      <th>topic_5</th>\n",
       "      <th>topic_6</th>\n",
       "      <th>topic_7</th>\n",
       "      <th>topic_8</th>\n",
       "      <th>topic_9</th>\n",
       "      <th>topic_10</th>\n",
       "      <th>topic_11</th>\n",
       "      <th>topic_12</th>\n",
       "      <th>topic_13</th>\n",
       "      <th>topic_14</th>\n",
       "    </tr>\n",
       "  </thead>\n",
       "  <tbody>\n",
       "    <tr>\n",
       "      <th>0</th>\n",
       "      <td>u105138</td>\n",
       "      <td>0.371466</td>\n",
       "      <td>0.257605</td>\n",
       "      <td>0.147119</td>\n",
       "      <td>0.179061</td>\n",
       "      <td>0.000000</td>\n",
       "      <td>0.106399</td>\n",
       "      <td>0.068110</td>\n",
       "      <td>0.423658</td>\n",
       "      <td>0.063695</td>\n",
       "      <td>0.336129</td>\n",
       "      <td>0.000000</td>\n",
       "      <td>0.489331</td>\n",
       "      <td>0.103892</td>\n",
       "      <td>0.288808</td>\n",
       "      <td>0.041971</td>\n",
       "    </tr>\n",
       "    <tr>\n",
       "      <th>1</th>\n",
       "      <td>u108690</td>\n",
       "      <td>0.143845</td>\n",
       "      <td>0.024616</td>\n",
       "      <td>0.000000</td>\n",
       "      <td>0.161076</td>\n",
       "      <td>0.035961</td>\n",
       "      <td>0.084139</td>\n",
       "      <td>0.137801</td>\n",
       "      <td>0.093860</td>\n",
       "      <td>0.000000</td>\n",
       "      <td>0.425137</td>\n",
       "      <td>0.000000</td>\n",
       "      <td>0.558360</td>\n",
       "      <td>0.124843</td>\n",
       "      <td>0.373572</td>\n",
       "      <td>0.036836</td>\n",
       "    </tr>\n",
       "    <tr>\n",
       "      <th>2</th>\n",
       "      <td>u108339</td>\n",
       "      <td>0.059778</td>\n",
       "      <td>0.263896</td>\n",
       "      <td>0.000000</td>\n",
       "      <td>0.175839</td>\n",
       "      <td>0.027231</td>\n",
       "      <td>0.032435</td>\n",
       "      <td>0.191566</td>\n",
       "      <td>0.175412</td>\n",
       "      <td>0.051370</td>\n",
       "      <td>0.338112</td>\n",
       "      <td>0.053851</td>\n",
       "      <td>0.507272</td>\n",
       "      <td>0.164713</td>\n",
       "      <td>0.442850</td>\n",
       "      <td>0.098518</td>\n",
       "    </tr>\n",
       "  </tbody>\n",
       "</table>\n",
       "</div>"
      ],
      "text/plain": [
       "       uid   topic_0   topic_1   topic_2   topic_3   topic_4   topic_5  \\\n",
       "0  u105138  0.371466  0.257605  0.147119  0.179061  0.000000  0.106399   \n",
       "1  u108690  0.143845  0.024616  0.000000  0.161076  0.035961  0.084139   \n",
       "2  u108339  0.059778  0.263896  0.000000  0.175839  0.027231  0.032435   \n",
       "\n",
       "    topic_6   topic_7   topic_8   topic_9  topic_10  topic_11  topic_12  \\\n",
       "0  0.068110  0.423658  0.063695  0.336129  0.000000  0.489331  0.103892   \n",
       "1  0.137801  0.093860  0.000000  0.425137  0.000000  0.558360  0.124843   \n",
       "2  0.191566  0.175412  0.051370  0.338112  0.053851  0.507272  0.164713   \n",
       "\n",
       "   topic_13  topic_14  \n",
       "0  0.288808  0.041971  \n",
       "1  0.373572  0.036836  \n",
       "2  0.442850  0.098518  "
      ]
     },
     "execution_count": 63,
     "metadata": {},
     "output_type": "execute_result"
    }
   ],
   "source": [
    "user_embeddings_max = pd.DataFrame([i for i in users['articles'].apply(lambda x: get_user_embedding_max(x), 1)])\n",
    "user_embeddings_max.columns = ['topic_{}'.format(i) for i in range(N_topic)]\n",
    "user_embeddings_max['uid'] = users['uid'].values\n",
    "user_embeddings_max = user_embeddings_max[['uid']+['topic_{}'.format(i) for i in range(N_topic)]]\n",
    "user_embeddings_max.head(3)"
   ]
  },
  {
   "cell_type": "code",
   "execution_count": 64,
   "metadata": {},
   "outputs": [
    {
     "data": {
      "text/html": [
       "<div>\n",
       "<style scoped>\n",
       "    .dataframe tbody tr th:only-of-type {\n",
       "        vertical-align: middle;\n",
       "    }\n",
       "\n",
       "    .dataframe tbody tr th {\n",
       "        vertical-align: top;\n",
       "    }\n",
       "\n",
       "    .dataframe thead th {\n",
       "        text-align: right;\n",
       "    }\n",
       "</style>\n",
       "<table border=\"1\" class=\"dataframe\">\n",
       "  <thead>\n",
       "    <tr style=\"text-align: right;\">\n",
       "      <th></th>\n",
       "      <th>uid</th>\n",
       "      <th>topic_0</th>\n",
       "      <th>topic_1</th>\n",
       "      <th>topic_2</th>\n",
       "      <th>topic_3</th>\n",
       "      <th>topic_4</th>\n",
       "      <th>topic_5</th>\n",
       "      <th>topic_6</th>\n",
       "      <th>topic_7</th>\n",
       "      <th>topic_8</th>\n",
       "      <th>topic_9</th>\n",
       "      <th>topic_10</th>\n",
       "      <th>topic_11</th>\n",
       "      <th>topic_12</th>\n",
       "      <th>topic_13</th>\n",
       "      <th>topic_14</th>\n",
       "    </tr>\n",
       "  </thead>\n",
       "  <tbody>\n",
       "    <tr>\n",
       "      <th>0</th>\n",
       "      <td>u105138</td>\n",
       "      <td>0.138604</td>\n",
       "      <td>0.060241</td>\n",
       "      <td>0.02452</td>\n",
       "      <td>0.046564</td>\n",
       "      <td>0.000000</td>\n",
       "      <td>0.037547</td>\n",
       "      <td>0.016972</td>\n",
       "      <td>0.163448</td>\n",
       "      <td>0.022532</td>\n",
       "      <td>0.182822</td>\n",
       "      <td>0.000000</td>\n",
       "      <td>0.121646</td>\n",
       "      <td>0.033830</td>\n",
       "      <td>0.114906</td>\n",
       "      <td>0.018756</td>\n",
       "    </tr>\n",
       "    <tr>\n",
       "      <th>1</th>\n",
       "      <td>u108690</td>\n",
       "      <td>0.065405</td>\n",
       "      <td>0.004103</td>\n",
       "      <td>0.00000</td>\n",
       "      <td>0.060764</td>\n",
       "      <td>0.011481</td>\n",
       "      <td>0.033619</td>\n",
       "      <td>0.034364</td>\n",
       "      <td>0.045659</td>\n",
       "      <td>0.000000</td>\n",
       "      <td>0.131824</td>\n",
       "      <td>0.000000</td>\n",
       "      <td>0.318513</td>\n",
       "      <td>0.035415</td>\n",
       "      <td>0.235357</td>\n",
       "      <td>0.017357</td>\n",
       "    </tr>\n",
       "    <tr>\n",
       "      <th>2</th>\n",
       "      <td>u108339</td>\n",
       "      <td>0.028792</td>\n",
       "      <td>0.046956</td>\n",
       "      <td>0.00000</td>\n",
       "      <td>0.060755</td>\n",
       "      <td>0.008543</td>\n",
       "      <td>0.005406</td>\n",
       "      <td>0.072525</td>\n",
       "      <td>0.056293</td>\n",
       "      <td>0.014251</td>\n",
       "      <td>0.174317</td>\n",
       "      <td>0.018543</td>\n",
       "      <td>0.224082</td>\n",
       "      <td>0.073627</td>\n",
       "      <td>0.184041</td>\n",
       "      <td>0.023642</td>\n",
       "    </tr>\n",
       "  </tbody>\n",
       "</table>\n",
       "</div>"
      ],
      "text/plain": [
       "       uid   topic_0   topic_1  topic_2   topic_3   topic_4   topic_5  \\\n",
       "0  u105138  0.138604  0.060241  0.02452  0.046564  0.000000  0.037547   \n",
       "1  u108690  0.065405  0.004103  0.00000  0.060764  0.011481  0.033619   \n",
       "2  u108339  0.028792  0.046956  0.00000  0.060755  0.008543  0.005406   \n",
       "\n",
       "    topic_6   topic_7   topic_8   topic_9  topic_10  topic_11  topic_12  \\\n",
       "0  0.016972  0.163448  0.022532  0.182822  0.000000  0.121646  0.033830   \n",
       "1  0.034364  0.045659  0.000000  0.131824  0.000000  0.318513  0.035415   \n",
       "2  0.072525  0.056293  0.014251  0.174317  0.018543  0.224082  0.073627   \n",
       "\n",
       "   topic_13  topic_14  \n",
       "0  0.114906  0.018756  \n",
       "1  0.235357  0.017357  \n",
       "2  0.184041  0.023642  "
      ]
     },
     "execution_count": 64,
     "metadata": {},
     "output_type": "execute_result"
    }
   ],
   "source": [
    "user_embeddings_mean = pd.DataFrame([i for i in users['articles'].apply(lambda x: get_user_embedding_mean(x), 1)])\n",
    "user_embeddings_mean.columns = ['topic_{}'.format(i) for i in range(N_topic)]\n",
    "user_embeddings_mean['uid'] = users['uid'].values\n",
    "user_embeddings_mean = user_embeddings_mean[['uid']+['topic_{}'.format(i) for i in range(N_topic)]]\n",
    "user_embeddings_mean.head(3)"
   ]
  },
  {
   "cell_type": "code",
   "execution_count": 65,
   "metadata": {},
   "outputs": [
    {
     "data": {
      "text/html": [
       "<div>\n",
       "<style scoped>\n",
       "    .dataframe tbody tr th:only-of-type {\n",
       "        vertical-align: middle;\n",
       "    }\n",
       "\n",
       "    .dataframe tbody tr th {\n",
       "        vertical-align: top;\n",
       "    }\n",
       "\n",
       "    .dataframe thead th {\n",
       "        text-align: right;\n",
       "    }\n",
       "</style>\n",
       "<table border=\"1\" class=\"dataframe\">\n",
       "  <thead>\n",
       "    <tr style=\"text-align: right;\">\n",
       "      <th></th>\n",
       "      <th>uid</th>\n",
       "      <th>topic_0</th>\n",
       "      <th>topic_1</th>\n",
       "      <th>topic_2</th>\n",
       "      <th>topic_3</th>\n",
       "      <th>topic_4</th>\n",
       "      <th>topic_5</th>\n",
       "      <th>topic_6</th>\n",
       "      <th>topic_7</th>\n",
       "      <th>topic_8</th>\n",
       "      <th>topic_9</th>\n",
       "      <th>topic_10</th>\n",
       "      <th>topic_11</th>\n",
       "      <th>topic_12</th>\n",
       "      <th>topic_13</th>\n",
       "      <th>topic_14</th>\n",
       "    </tr>\n",
       "  </thead>\n",
       "  <tbody>\n",
       "    <tr>\n",
       "      <th>0</th>\n",
       "      <td>u105138</td>\n",
       "      <td>0.049983</td>\n",
       "      <td>0.020848</td>\n",
       "      <td>0.0</td>\n",
       "      <td>0.023219</td>\n",
       "      <td>0.000000</td>\n",
       "      <td>0.019702</td>\n",
       "      <td>0.000000</td>\n",
       "      <td>0.102915</td>\n",
       "      <td>0.014813</td>\n",
       "      <td>0.231364</td>\n",
       "      <td>0.000000</td>\n",
       "      <td>0.000000</td>\n",
       "      <td>0.000000</td>\n",
       "      <td>0.059157</td>\n",
       "      <td>0.015477</td>\n",
       "    </tr>\n",
       "    <tr>\n",
       "      <th>1</th>\n",
       "      <td>u108690</td>\n",
       "      <td>0.066468</td>\n",
       "      <td>0.000000</td>\n",
       "      <td>0.0</td>\n",
       "      <td>0.033846</td>\n",
       "      <td>0.000000</td>\n",
       "      <td>0.019663</td>\n",
       "      <td>0.014566</td>\n",
       "      <td>0.037354</td>\n",
       "      <td>0.000000</td>\n",
       "      <td>0.036260</td>\n",
       "      <td>0.000000</td>\n",
       "      <td>0.303005</td>\n",
       "      <td>0.022997</td>\n",
       "      <td>0.246132</td>\n",
       "      <td>0.018545</td>\n",
       "    </tr>\n",
       "    <tr>\n",
       "      <th>2</th>\n",
       "      <td>u108339</td>\n",
       "      <td>0.029898</td>\n",
       "      <td>0.000000</td>\n",
       "      <td>0.0</td>\n",
       "      <td>0.034094</td>\n",
       "      <td>0.005545</td>\n",
       "      <td>0.000000</td>\n",
       "      <td>0.066570</td>\n",
       "      <td>0.037460</td>\n",
       "      <td>0.000000</td>\n",
       "      <td>0.200213</td>\n",
       "      <td>0.010928</td>\n",
       "      <td>0.213769</td>\n",
       "      <td>0.073576</td>\n",
       "      <td>0.141391</td>\n",
       "      <td>0.009057</td>\n",
       "    </tr>\n",
       "  </tbody>\n",
       "</table>\n",
       "</div>"
      ],
      "text/plain": [
       "       uid   topic_0   topic_1  topic_2   topic_3   topic_4   topic_5  \\\n",
       "0  u105138  0.049983  0.020848      0.0  0.023219  0.000000  0.019702   \n",
       "1  u108690  0.066468  0.000000      0.0  0.033846  0.000000  0.019663   \n",
       "2  u108339  0.029898  0.000000      0.0  0.034094  0.005545  0.000000   \n",
       "\n",
       "    topic_6   topic_7   topic_8   topic_9  topic_10  topic_11  topic_12  \\\n",
       "0  0.000000  0.102915  0.014813  0.231364  0.000000  0.000000  0.000000   \n",
       "1  0.014566  0.037354  0.000000  0.036260  0.000000  0.303005  0.022997   \n",
       "2  0.066570  0.037460  0.000000  0.200213  0.010928  0.213769  0.073576   \n",
       "\n",
       "   topic_13  topic_14  \n",
       "0  0.059157  0.015477  \n",
       "1  0.246132  0.018545  \n",
       "2  0.141391  0.009057  "
      ]
     },
     "execution_count": 65,
     "metadata": {},
     "output_type": "execute_result"
    }
   ],
   "source": [
    "user_embeddings_median = pd.DataFrame([i for i in users['articles'].apply(lambda x: get_user_embedding_median(x), 1)])\n",
    "user_embeddings_median.columns = ['topic_{}'.format(i) for i in range(N_topic)]\n",
    "user_embeddings_median['uid'] = users['uid'].values\n",
    "user_embeddings_median = user_embeddings_median[['uid']+['topic_{}'.format(i) for i in range(N_topic)]]\n",
    "user_embeddings_median.head(3)"
   ]
  },
  {
   "cell_type": "markdown",
   "metadata": {
    "id": "dZNF_ZXSMIG8"
   },
   "source": [
    "Датасет готов - можно попробовать обучить модель. Загрузим нашу разметку"
   ]
  },
  {
   "cell_type": "code",
   "execution_count": 66,
   "metadata": {
    "colab": {
     "base_uri": "https://localhost:8080/",
     "height": 142
    },
    "id": "L2mVHGMPMIG9",
    "outputId": "4cb57f53-d67e-440e-e06f-beee7a56531d"
   },
   "outputs": [
    {
     "data": {
      "text/html": [
       "<div>\n",
       "<style scoped>\n",
       "    .dataframe tbody tr th:only-of-type {\n",
       "        vertical-align: middle;\n",
       "    }\n",
       "\n",
       "    .dataframe tbody tr th {\n",
       "        vertical-align: top;\n",
       "    }\n",
       "\n",
       "    .dataframe thead th {\n",
       "        text-align: right;\n",
       "    }\n",
       "</style>\n",
       "<table border=\"1\" class=\"dataframe\">\n",
       "  <thead>\n",
       "    <tr style=\"text-align: right;\">\n",
       "      <th></th>\n",
       "      <th>uid</th>\n",
       "      <th>churn</th>\n",
       "    </tr>\n",
       "  </thead>\n",
       "  <tbody>\n",
       "    <tr>\n",
       "      <th>0</th>\n",
       "      <td>u107120</td>\n",
       "      <td>0</td>\n",
       "    </tr>\n",
       "    <tr>\n",
       "      <th>1</th>\n",
       "      <td>u102277</td>\n",
       "      <td>0</td>\n",
       "    </tr>\n",
       "    <tr>\n",
       "      <th>2</th>\n",
       "      <td>u102444</td>\n",
       "      <td>0</td>\n",
       "    </tr>\n",
       "  </tbody>\n",
       "</table>\n",
       "</div>"
      ],
      "text/plain": [
       "       uid  churn\n",
       "0  u107120      0\n",
       "1  u102277      0\n",
       "2  u102444      0"
      ]
     },
     "execution_count": 66,
     "metadata": {},
     "output_type": "execute_result"
    }
   ],
   "source": [
    "target = pd.read_csv(\"users_churn.csv\")\n",
    "target.head(3)"
   ]
  },
  {
   "cell_type": "code",
   "execution_count": 67,
   "metadata": {
    "colab": {
     "base_uri": "https://localhost:8080/",
     "height": 162
    },
    "id": "qXzy3pA2MIG9",
    "outputId": "fc85153b-5b2f-4757-d803-6673c9bc46d5"
   },
   "outputs": [
    {
     "data": {
      "text/html": [
       "<div>\n",
       "<style scoped>\n",
       "    .dataframe tbody tr th:only-of-type {\n",
       "        vertical-align: middle;\n",
       "    }\n",
       "\n",
       "    .dataframe tbody tr th {\n",
       "        vertical-align: top;\n",
       "    }\n",
       "\n",
       "    .dataframe thead th {\n",
       "        text-align: right;\n",
       "    }\n",
       "</style>\n",
       "<table border=\"1\" class=\"dataframe\">\n",
       "  <thead>\n",
       "    <tr style=\"text-align: right;\">\n",
       "      <th></th>\n",
       "      <th>uid</th>\n",
       "      <th>topic_0</th>\n",
       "      <th>topic_1</th>\n",
       "      <th>topic_2</th>\n",
       "      <th>topic_3</th>\n",
       "      <th>topic_4</th>\n",
       "      <th>topic_5</th>\n",
       "      <th>topic_6</th>\n",
       "      <th>topic_7</th>\n",
       "      <th>topic_8</th>\n",
       "      <th>topic_9</th>\n",
       "      <th>topic_10</th>\n",
       "      <th>topic_11</th>\n",
       "      <th>topic_12</th>\n",
       "      <th>topic_13</th>\n",
       "      <th>topic_14</th>\n",
       "      <th>churn</th>\n",
       "    </tr>\n",
       "  </thead>\n",
       "  <tbody>\n",
       "    <tr>\n",
       "      <th>0</th>\n",
       "      <td>u105138</td>\n",
       "      <td>0.371466</td>\n",
       "      <td>0.257605</td>\n",
       "      <td>0.147119</td>\n",
       "      <td>0.179061</td>\n",
       "      <td>0.000000</td>\n",
       "      <td>0.106399</td>\n",
       "      <td>0.068110</td>\n",
       "      <td>0.423658</td>\n",
       "      <td>0.063695</td>\n",
       "      <td>0.336129</td>\n",
       "      <td>0.000000</td>\n",
       "      <td>0.489331</td>\n",
       "      <td>0.103892</td>\n",
       "      <td>0.288808</td>\n",
       "      <td>0.041971</td>\n",
       "      <td>0</td>\n",
       "    </tr>\n",
       "    <tr>\n",
       "      <th>1</th>\n",
       "      <td>u108690</td>\n",
       "      <td>0.143845</td>\n",
       "      <td>0.024616</td>\n",
       "      <td>0.000000</td>\n",
       "      <td>0.161076</td>\n",
       "      <td>0.035961</td>\n",
       "      <td>0.084139</td>\n",
       "      <td>0.137801</td>\n",
       "      <td>0.093860</td>\n",
       "      <td>0.000000</td>\n",
       "      <td>0.425137</td>\n",
       "      <td>0.000000</td>\n",
       "      <td>0.558360</td>\n",
       "      <td>0.124843</td>\n",
       "      <td>0.373572</td>\n",
       "      <td>0.036836</td>\n",
       "      <td>1</td>\n",
       "    </tr>\n",
       "    <tr>\n",
       "      <th>2</th>\n",
       "      <td>u108339</td>\n",
       "      <td>0.059778</td>\n",
       "      <td>0.263896</td>\n",
       "      <td>0.000000</td>\n",
       "      <td>0.175839</td>\n",
       "      <td>0.027231</td>\n",
       "      <td>0.032435</td>\n",
       "      <td>0.191566</td>\n",
       "      <td>0.175412</td>\n",
       "      <td>0.051370</td>\n",
       "      <td>0.338112</td>\n",
       "      <td>0.053851</td>\n",
       "      <td>0.507272</td>\n",
       "      <td>0.164713</td>\n",
       "      <td>0.442850</td>\n",
       "      <td>0.098518</td>\n",
       "      <td>1</td>\n",
       "    </tr>\n",
       "  </tbody>\n",
       "</table>\n",
       "</div>"
      ],
      "text/plain": [
       "       uid   topic_0   topic_1   topic_2   topic_3   topic_4   topic_5  \\\n",
       "0  u105138  0.371466  0.257605  0.147119  0.179061  0.000000  0.106399   \n",
       "1  u108690  0.143845  0.024616  0.000000  0.161076  0.035961  0.084139   \n",
       "2  u108339  0.059778  0.263896  0.000000  0.175839  0.027231  0.032435   \n",
       "\n",
       "    topic_6   topic_7   topic_8   topic_9  topic_10  topic_11  topic_12  \\\n",
       "0  0.068110  0.423658  0.063695  0.336129  0.000000  0.489331  0.103892   \n",
       "1  0.137801  0.093860  0.000000  0.425137  0.000000  0.558360  0.124843   \n",
       "2  0.191566  0.175412  0.051370  0.338112  0.053851  0.507272  0.164713   \n",
       "\n",
       "   topic_13  topic_14  churn  \n",
       "0  0.288808  0.041971      0  \n",
       "1  0.373572  0.036836      1  \n",
       "2  0.442850  0.098518      1  "
      ]
     },
     "execution_count": 67,
     "metadata": {},
     "output_type": "execute_result"
    }
   ],
   "source": [
    "X_max = pd.merge(user_embeddings_max, target, 'left')\n",
    "X_max.head(3)"
   ]
  },
  {
   "cell_type": "code",
   "execution_count": 68,
   "metadata": {},
   "outputs": [
    {
     "data": {
      "text/html": [
       "<div>\n",
       "<style scoped>\n",
       "    .dataframe tbody tr th:only-of-type {\n",
       "        vertical-align: middle;\n",
       "    }\n",
       "\n",
       "    .dataframe tbody tr th {\n",
       "        vertical-align: top;\n",
       "    }\n",
       "\n",
       "    .dataframe thead th {\n",
       "        text-align: right;\n",
       "    }\n",
       "</style>\n",
       "<table border=\"1\" class=\"dataframe\">\n",
       "  <thead>\n",
       "    <tr style=\"text-align: right;\">\n",
       "      <th></th>\n",
       "      <th>uid</th>\n",
       "      <th>topic_0</th>\n",
       "      <th>topic_1</th>\n",
       "      <th>topic_2</th>\n",
       "      <th>topic_3</th>\n",
       "      <th>topic_4</th>\n",
       "      <th>topic_5</th>\n",
       "      <th>topic_6</th>\n",
       "      <th>topic_7</th>\n",
       "      <th>topic_8</th>\n",
       "      <th>topic_9</th>\n",
       "      <th>topic_10</th>\n",
       "      <th>topic_11</th>\n",
       "      <th>topic_12</th>\n",
       "      <th>topic_13</th>\n",
       "      <th>topic_14</th>\n",
       "      <th>churn</th>\n",
       "    </tr>\n",
       "  </thead>\n",
       "  <tbody>\n",
       "    <tr>\n",
       "      <th>0</th>\n",
       "      <td>u105138</td>\n",
       "      <td>0.138604</td>\n",
       "      <td>0.060241</td>\n",
       "      <td>0.02452</td>\n",
       "      <td>0.046564</td>\n",
       "      <td>0.000000</td>\n",
       "      <td>0.037547</td>\n",
       "      <td>0.016972</td>\n",
       "      <td>0.163448</td>\n",
       "      <td>0.022532</td>\n",
       "      <td>0.182822</td>\n",
       "      <td>0.000000</td>\n",
       "      <td>0.121646</td>\n",
       "      <td>0.033830</td>\n",
       "      <td>0.114906</td>\n",
       "      <td>0.018756</td>\n",
       "      <td>0</td>\n",
       "    </tr>\n",
       "    <tr>\n",
       "      <th>1</th>\n",
       "      <td>u108690</td>\n",
       "      <td>0.065405</td>\n",
       "      <td>0.004103</td>\n",
       "      <td>0.00000</td>\n",
       "      <td>0.060764</td>\n",
       "      <td>0.011481</td>\n",
       "      <td>0.033619</td>\n",
       "      <td>0.034364</td>\n",
       "      <td>0.045659</td>\n",
       "      <td>0.000000</td>\n",
       "      <td>0.131824</td>\n",
       "      <td>0.000000</td>\n",
       "      <td>0.318513</td>\n",
       "      <td>0.035415</td>\n",
       "      <td>0.235357</td>\n",
       "      <td>0.017357</td>\n",
       "      <td>1</td>\n",
       "    </tr>\n",
       "    <tr>\n",
       "      <th>2</th>\n",
       "      <td>u108339</td>\n",
       "      <td>0.028792</td>\n",
       "      <td>0.046956</td>\n",
       "      <td>0.00000</td>\n",
       "      <td>0.060755</td>\n",
       "      <td>0.008543</td>\n",
       "      <td>0.005406</td>\n",
       "      <td>0.072525</td>\n",
       "      <td>0.056293</td>\n",
       "      <td>0.014251</td>\n",
       "      <td>0.174317</td>\n",
       "      <td>0.018543</td>\n",
       "      <td>0.224082</td>\n",
       "      <td>0.073627</td>\n",
       "      <td>0.184041</td>\n",
       "      <td>0.023642</td>\n",
       "      <td>1</td>\n",
       "    </tr>\n",
       "  </tbody>\n",
       "</table>\n",
       "</div>"
      ],
      "text/plain": [
       "       uid   topic_0   topic_1  topic_2   topic_3   topic_4   topic_5  \\\n",
       "0  u105138  0.138604  0.060241  0.02452  0.046564  0.000000  0.037547   \n",
       "1  u108690  0.065405  0.004103  0.00000  0.060764  0.011481  0.033619   \n",
       "2  u108339  0.028792  0.046956  0.00000  0.060755  0.008543  0.005406   \n",
       "\n",
       "    topic_6   topic_7   topic_8   topic_9  topic_10  topic_11  topic_12  \\\n",
       "0  0.016972  0.163448  0.022532  0.182822  0.000000  0.121646  0.033830   \n",
       "1  0.034364  0.045659  0.000000  0.131824  0.000000  0.318513  0.035415   \n",
       "2  0.072525  0.056293  0.014251  0.174317  0.018543  0.224082  0.073627   \n",
       "\n",
       "   topic_13  topic_14  churn  \n",
       "0  0.114906  0.018756      0  \n",
       "1  0.235357  0.017357      1  \n",
       "2  0.184041  0.023642      1  "
      ]
     },
     "execution_count": 68,
     "metadata": {},
     "output_type": "execute_result"
    }
   ],
   "source": [
    "X_mean = pd.merge(user_embeddings_mean, target, 'left')\n",
    "X_mean.head(3)"
   ]
  },
  {
   "cell_type": "code",
   "execution_count": 69,
   "metadata": {},
   "outputs": [
    {
     "data": {
      "text/html": [
       "<div>\n",
       "<style scoped>\n",
       "    .dataframe tbody tr th:only-of-type {\n",
       "        vertical-align: middle;\n",
       "    }\n",
       "\n",
       "    .dataframe tbody tr th {\n",
       "        vertical-align: top;\n",
       "    }\n",
       "\n",
       "    .dataframe thead th {\n",
       "        text-align: right;\n",
       "    }\n",
       "</style>\n",
       "<table border=\"1\" class=\"dataframe\">\n",
       "  <thead>\n",
       "    <tr style=\"text-align: right;\">\n",
       "      <th></th>\n",
       "      <th>uid</th>\n",
       "      <th>topic_0</th>\n",
       "      <th>topic_1</th>\n",
       "      <th>topic_2</th>\n",
       "      <th>topic_3</th>\n",
       "      <th>topic_4</th>\n",
       "      <th>topic_5</th>\n",
       "      <th>topic_6</th>\n",
       "      <th>topic_7</th>\n",
       "      <th>topic_8</th>\n",
       "      <th>topic_9</th>\n",
       "      <th>topic_10</th>\n",
       "      <th>topic_11</th>\n",
       "      <th>topic_12</th>\n",
       "      <th>topic_13</th>\n",
       "      <th>topic_14</th>\n",
       "      <th>churn</th>\n",
       "    </tr>\n",
       "  </thead>\n",
       "  <tbody>\n",
       "    <tr>\n",
       "      <th>0</th>\n",
       "      <td>u105138</td>\n",
       "      <td>0.049983</td>\n",
       "      <td>0.020848</td>\n",
       "      <td>0.0</td>\n",
       "      <td>0.023219</td>\n",
       "      <td>0.000000</td>\n",
       "      <td>0.019702</td>\n",
       "      <td>0.000000</td>\n",
       "      <td>0.102915</td>\n",
       "      <td>0.014813</td>\n",
       "      <td>0.231364</td>\n",
       "      <td>0.000000</td>\n",
       "      <td>0.000000</td>\n",
       "      <td>0.000000</td>\n",
       "      <td>0.059157</td>\n",
       "      <td>0.015477</td>\n",
       "      <td>0</td>\n",
       "    </tr>\n",
       "    <tr>\n",
       "      <th>1</th>\n",
       "      <td>u108690</td>\n",
       "      <td>0.066468</td>\n",
       "      <td>0.000000</td>\n",
       "      <td>0.0</td>\n",
       "      <td>0.033846</td>\n",
       "      <td>0.000000</td>\n",
       "      <td>0.019663</td>\n",
       "      <td>0.014566</td>\n",
       "      <td>0.037354</td>\n",
       "      <td>0.000000</td>\n",
       "      <td>0.036260</td>\n",
       "      <td>0.000000</td>\n",
       "      <td>0.303005</td>\n",
       "      <td>0.022997</td>\n",
       "      <td>0.246132</td>\n",
       "      <td>0.018545</td>\n",
       "      <td>1</td>\n",
       "    </tr>\n",
       "    <tr>\n",
       "      <th>2</th>\n",
       "      <td>u108339</td>\n",
       "      <td>0.029898</td>\n",
       "      <td>0.000000</td>\n",
       "      <td>0.0</td>\n",
       "      <td>0.034094</td>\n",
       "      <td>0.005545</td>\n",
       "      <td>0.000000</td>\n",
       "      <td>0.066570</td>\n",
       "      <td>0.037460</td>\n",
       "      <td>0.000000</td>\n",
       "      <td>0.200213</td>\n",
       "      <td>0.010928</td>\n",
       "      <td>0.213769</td>\n",
       "      <td>0.073576</td>\n",
       "      <td>0.141391</td>\n",
       "      <td>0.009057</td>\n",
       "      <td>1</td>\n",
       "    </tr>\n",
       "  </tbody>\n",
       "</table>\n",
       "</div>"
      ],
      "text/plain": [
       "       uid   topic_0   topic_1  topic_2   topic_3   topic_4   topic_5  \\\n",
       "0  u105138  0.049983  0.020848      0.0  0.023219  0.000000  0.019702   \n",
       "1  u108690  0.066468  0.000000      0.0  0.033846  0.000000  0.019663   \n",
       "2  u108339  0.029898  0.000000      0.0  0.034094  0.005545  0.000000   \n",
       "\n",
       "    topic_6   topic_7   topic_8   topic_9  topic_10  topic_11  topic_12  \\\n",
       "0  0.000000  0.102915  0.014813  0.231364  0.000000  0.000000  0.000000   \n",
       "1  0.014566  0.037354  0.000000  0.036260  0.000000  0.303005  0.022997   \n",
       "2  0.066570  0.037460  0.000000  0.200213  0.010928  0.213769  0.073576   \n",
       "\n",
       "   topic_13  topic_14  churn  \n",
       "0  0.059157  0.015477      0  \n",
       "1  0.246132  0.018545      1  \n",
       "2  0.141391  0.009057      1  "
      ]
     },
     "execution_count": 69,
     "metadata": {},
     "output_type": "execute_result"
    }
   ],
   "source": [
    "X_median = pd.merge(user_embeddings_median, target, 'left')\n",
    "X_median.head(3)"
   ]
  },
  {
   "cell_type": "code",
   "execution_count": 70,
   "metadata": {
    "id": "Un-dl_vDMIHM"
   },
   "outputs": [],
   "source": [
    "from sklearn.linear_model import LogisticRegression\n",
    "from sklearn.model_selection import train_test_split\n",
    "#import itertools\n",
    "\n",
    "import matplotlib.pyplot as plt\n",
    "\n",
    "%matplotlib inline"
   ]
  },
  {
   "cell_type": "code",
   "execution_count": 71,
   "metadata": {
    "id": "rzq-WEIJMIHO"
   },
   "outputs": [],
   "source": [
    "#разделим данные на train/test\n",
    "X_max_train, X_max_test, y_max_train, y_max_test = train_test_split(X_max[['topic_{}'.format(i) for i in range(N_topic)]], \n",
    "                                                    X_max['churn'], random_state=0, test_size=0.25)"
   ]
  },
  {
   "cell_type": "code",
   "execution_count": 72,
   "metadata": {},
   "outputs": [],
   "source": [
    "X_mean_train, X_mean_test, y_mean_train, y_mean_test = train_test_split(X_mean[['topic_{}'.format(i) for i in range(N_topic)]], \n",
    "                                                    X_mean['churn'], random_state=0, test_size=0.25)"
   ]
  },
  {
   "cell_type": "code",
   "execution_count": 73,
   "metadata": {},
   "outputs": [],
   "source": [
    "X_median_train, X_median_test, y_median_train, y_median_test = train_test_split(X_median[['topic_{}'.format(i) for i in range(N_topic)]], \n",
    "                                                    X_median['churn'], random_state=0, test_size=0.25)"
   ]
  },
  {
   "cell_type": "code",
   "execution_count": 75,
   "metadata": {
    "colab": {
     "base_uri": "https://localhost:8080/"
    },
    "id": "EBQsn00QMIHO",
    "outputId": "dc958171-432e-49de-96bb-2d1cf9cdee14"
   },
   "outputs": [
    {
     "data": {
      "text/plain": [
       "LogisticRegression()"
      ]
     },
     "execution_count": 75,
     "metadata": {},
     "output_type": "execute_result"
    }
   ],
   "source": [
    "logreg_max = LogisticRegression(C=1.0)\n",
    "#обучим наш пайплайн\n",
    "logreg_max.fit(X_max_train, y_max_train)"
   ]
  },
  {
   "cell_type": "code",
   "execution_count": 76,
   "metadata": {},
   "outputs": [
    {
     "data": {
      "text/plain": [
       "LogisticRegression()"
      ]
     },
     "execution_count": 76,
     "metadata": {},
     "output_type": "execute_result"
    }
   ],
   "source": [
    "logreg_mean = LogisticRegression(C=1.0)\n",
    "#обучим наш пайплайн\n",
    "logreg_mean.fit(X_mean_train, y_mean_train)"
   ]
  },
  {
   "cell_type": "code",
   "execution_count": 77,
   "metadata": {},
   "outputs": [
    {
     "data": {
      "text/plain": [
       "LogisticRegression()"
      ]
     },
     "execution_count": 77,
     "metadata": {},
     "output_type": "execute_result"
    }
   ],
   "source": [
    "logreg_median = LogisticRegression(C=1.0)\n",
    "#обучим наш пайплайн\n",
    "logreg_median.fit(X_median_train, y_median_train)"
   ]
  },
  {
   "cell_type": "code",
   "execution_count": 83,
   "metadata": {
    "colab": {
     "base_uri": "https://localhost:8080/"
    },
    "id": "GqftFfoOMIHP",
    "outputId": "9346d760-60a1-4237-95a5-eb0b5a1f1611"
   },
   "outputs": [
    {
     "data": {
      "text/plain": [
       "array([0.34261238, 0.00365875, 0.80387875, 0.15713365, 0.00687241,\n",
       "       0.06139138, 0.08296999, 0.38117534, 0.00546903, 0.02175787])"
      ]
     },
     "execution_count": 83,
     "metadata": {},
     "output_type": "execute_result"
    }
   ],
   "source": [
    "#наши прогнозы для тестовой выборки\n",
    "preds_max = logreg_max.predict_proba(X_max_test)[:, 1]\n",
    "preds_max[:10]"
   ]
  },
  {
   "cell_type": "code",
   "execution_count": 84,
   "metadata": {},
   "outputs": [
    {
     "data": {
      "text/plain": [
       "array([0.06052062, 0.07417171, 0.61231169, 0.25745899, 0.05237126,\n",
       "       0.1365613 , 0.27003977, 0.03623225, 0.0650975 , 0.06787627])"
      ]
     },
     "execution_count": 84,
     "metadata": {},
     "output_type": "execute_result"
    }
   ],
   "source": [
    "#наши прогнозы для тестовой выборки\n",
    "preds_mean = logreg_mean.predict_proba(X_mean_test)[:, 1]\n",
    "preds_mean[:10]"
   ]
  },
  {
   "cell_type": "code",
   "execution_count": 85,
   "metadata": {},
   "outputs": [
    {
     "data": {
      "text/plain": [
       "array([0.02941211, 0.05002575, 0.73267502, 0.34828684, 0.02861663,\n",
       "       0.04375239, 0.14389734, 0.04342053, 0.10010462, 0.1527936 ])"
      ]
     },
     "execution_count": 85,
     "metadata": {},
     "output_type": "execute_result"
    }
   ],
   "source": [
    "#наши прогнозы для тестовой выборки\n",
    "preds_median = logreg_median.predict_proba(X_median_test)[:, 1]\n",
    "preds_median[:10]"
   ]
  },
  {
   "cell_type": "code",
   "execution_count": 86,
   "metadata": {
    "id": "nQKM7kKtMIHU"
   },
   "outputs": [],
   "source": [
    "from sklearn.metrics import f1_score, roc_auc_score, precision_score, classification_report, precision_recall_curve, confusion_matrix"
   ]
  },
  {
   "cell_type": "markdown",
   "metadata": {
    "id": "_X_oDrlNMIHV"
   },
   "source": [
    "Рассчитаем Precision, Recall, F_score"
   ]
  },
  {
   "cell_type": "code",
   "execution_count": 89,
   "metadata": {
    "colab": {
     "base_uri": "https://localhost:8080/",
     "height": 295
    },
    "id": "vFnKI0lCQ91K",
    "outputId": "32d4fa16-cc60-47ac-b689-624bb80a42d4"
   },
   "outputs": [
    {
     "data": {
      "image/png": "[encoded data removed]",
      "text/plain": [
       "<Figure size 432x288 with 1 Axes>"
      ]
     },
     "metadata": {
      "needs_background": "light"
     },
     "output_type": "display_data"
    }
   ],
   "source": [
    "\n",
    "plt.plot( preds_max[:100], label = 'predict')\n",
    "plt.plot(y_max_test.values[:100], label = 'true')\n",
    "plt.title('ответ модели')\n",
    "plt.xlabel(' № примера')\n",
    "plt.ylabel(' выход')\n",
    "plt.legend()\n",
    "plt.grid('On')\n",
    "plt.show()"
   ]
  },
  {
   "cell_type": "code",
   "execution_count": 90,
   "metadata": {},
   "outputs": [
    {
     "data": {
      "image/png": "[encoded data removed]",
      "text/plain": [
       "<Figure size 432x288 with 1 Axes>"
      ]
     },
     "metadata": {
      "needs_background": "light"
     },
     "output_type": "display_data"
    }
   ],
   "source": [
    "plt.plot( preds_mean[:100], label = 'predict')\n",
    "plt.plot(y_mean_test.values[:100], label = 'true')\n",
    "plt.title('ответ модели')\n",
    "plt.xlabel(' № примера')\n",
    "plt.ylabel(' выход')\n",
    "plt.legend()\n",
    "plt.grid('On')\n",
    "plt.show()"
   ]
  },
  {
   "cell_type": "code",
   "execution_count": 91,
   "metadata": {},
   "outputs": [
    {
     "data": {
      "image/png": "[encoded data removed]",
      "text/plain": [
       "<Figure size 432x288 with 1 Axes>"
      ]
     },
     "metadata": {
      "needs_background": "light"
     },
     "output_type": "display_data"
    }
   ],
   "source": [
    "plt.plot( preds_median[:100], label = 'predict')\n",
    "plt.plot(y_median_test.values[:100], label = 'true')\n",
    "plt.title('ответ модели')\n",
    "plt.xlabel(' № примера')\n",
    "plt.ylabel(' выход')\n",
    "plt.legend()\n",
    "plt.grid('On')\n",
    "plt.show()"
   ]
  },
  {
   "cell_type": "code",
   "execution_count": 92,
   "metadata": {
    "colab": {
     "base_uri": "https://localhost:8080/"
    },
    "id": "9fQs8BKNAf0a",
    "outputId": "248634c1-a981-4e2a-ea26-8d02a7c42e37"
   },
   "outputs": [
    {
     "data": {
      "text/plain": [
       "array([], dtype=int64)"
      ]
     },
     "execution_count": 92,
     "metadata": {},
     "output_type": "execute_result"
    }
   ],
   "source": [
    "np.where(precision == 0)[0]"
   ]
  },
  {
   "cell_type": "code",
   "execution_count": 103,
   "metadata": {
    "colab": {
     "base_uri": "https://localhost:8080/"
    },
    "id": "J04r8edvMIHV",
    "outputId": "9975f764-0535-4b8a-be00-b84f7e214cbb"
   },
   "outputs": [
    {
     "name": "stdout",
     "output_type": "stream",
     "text": [
      "(max) Best Threshold=0.073602, F-Score=0.461, Precision=0.300, Recall=0.992\n"
     ]
    }
   ],
   "source": [
    "precision_max, recall_max, thresholds_max = precision_recall_curve(y_max_test.values[:1000], preds_max[:1000])\n",
    "\n",
    "fscore_max = (2 * precision_max * recall_max) / (precision_max + recall_max)\n",
    "\n",
    "# locate the index of the largest f score\n",
    "ix_max = np.argmax(fscore_max)\n",
    "print('(max) Best Threshold=%f, F-Score=%.3f, Precision=%.3f, Recall=%.3f' % (thresholds[ix], \n",
    "                                                                        fscore[ix],\n",
    "                                                                        precision[ix],\n",
    "                                                                        recall[ix]))"
   ]
  },
  {
   "cell_type": "code",
   "execution_count": 104,
   "metadata": {},
   "outputs": [
    {
     "name": "stdout",
     "output_type": "stream",
     "text": [
      "(mean) Best Threshold=0.073602, F-Score=0.461, Precision=0.300, Recall=0.992\n"
     ]
    }
   ],
   "source": [
    "precision_mean, recall_mean, thresholds_mean = precision_recall_curve(y_mean_test.values[:1000], preds_mean[:1000])\n",
    "\n",
    "fscore_mean = (2 * precision_mean * recall_mean) / (precision_mean + recall_mean)\n",
    "\n",
    "# locate the index of the largest f score\n",
    "ix_mean = np.argmax(fscore_mean)\n",
    "print('(mean) Best Threshold=%f, F-Score=%.3f, Precision=%.3f, Recall=%.3f' % (thresholds[ix], \n",
    "                                                                        fscore[ix],\n",
    "                                                                        precision[ix],\n",
    "                                                                        recall[ix]))"
   ]
  },
  {
   "cell_type": "code",
   "execution_count": 105,
   "metadata": {},
   "outputs": [
    {
     "name": "stdout",
     "output_type": "stream",
     "text": [
      "(median) Best Threshold=0.073602, F-Score=0.461, Precision=0.300, Recall=0.992\n"
     ]
    }
   ],
   "source": [
    "precision_median, recall_median, thresholds_median = precision_recall_curve(y_median_test.values[:1000], preds_median[:1000])\n",
    "\n",
    "fscore_median = (2 * precision_median * recall_median) / (precision_median + recall_median)\n",
    "\n",
    "# locate the index of the largest f score\n",
    "ix_median = np.argmax(fscore_median)\n",
    "print('(median) Best Threshold=%f, F-Score=%.3f, Precision=%.3f, Recall=%.3f' % (thresholds[ix], \n",
    "                                                                        fscore[ix],\n",
    "                                                                        precision[ix],\n",
    "                                                                        recall[ix]))"
   ]
  },
  {
   "cell_type": "code",
   "execution_count": 98,
   "metadata": {
    "colab": {
     "base_uri": "https://localhost:8080/",
     "height": 309
    },
    "id": "OpIn4_MkQk-h",
    "outputId": "3f3103a9-8444-420d-bbf5-54496e321049"
   },
   "outputs": [
    {
     "data": {
      "image/png": "[encoded data removed]",
      "text/plain": [
       "<Figure size 432x288 with 1 Axes>"
      ]
     },
     "metadata": {
      "needs_background": "light"
     },
     "output_type": "display_data"
    }
   ],
   "source": [
    "plt.plot(recall_max,precision_max )\n",
    "plt.title(' точность/полнота')\n",
    "plt.xlabel(' полнота')\n",
    "plt.ylabel(' точность')\n",
    "plt.grid('On')\n",
    "plt.show()"
   ]
  },
  {
   "cell_type": "code",
   "execution_count": 99,
   "metadata": {},
   "outputs": [
    {
     "data": {
      "image/png": "[encoded data removed]",
      "text/plain": [
       "<Figure size 432x288 with 1 Axes>"
      ]
     },
     "metadata": {
      "needs_background": "light"
     },
     "output_type": "display_data"
    }
   ],
   "source": [
    "plt.plot(recall_mean, precision_mean)\n",
    "plt.title(' точность/полнота')\n",
    "plt.xlabel(' полнота')\n",
    "plt.ylabel(' точность')\n",
    "plt.grid('On')\n",
    "plt.show()"
   ]
  },
  {
   "cell_type": "code",
   "execution_count": 100,
   "metadata": {},
   "outputs": [
    {
     "data": {
      "image/png": "[encoded data removed]",
      "text/plain": [
       "<Figure size 432x288 with 1 Axes>"
      ]
     },
     "metadata": {
      "needs_background": "light"
     },
     "output_type": "display_data"
    }
   ],
   "source": [
    "plt.plot(recall_median,precision_median)\n",
    "plt.title(' точность/полнота')\n",
    "plt.xlabel(' полнота')\n",
    "plt.ylabel(' точность')\n",
    "plt.grid('On')\n",
    "plt.show()"
   ]
  },
  {
   "cell_type": "code",
   "execution_count": 101,
   "metadata": {
    "id": "fGe9uvYRYsQf"
   },
   "outputs": [],
   "source": [
    "import itertools"
   ]
  },
  {
   "cell_type": "code",
   "execution_count": 102,
   "metadata": {
    "id": "Q-yiXb5qMIHW"
   },
   "outputs": [],
   "source": [
    "def plot_confusion_matrix(cm, classes,\n",
    "                          normalize=False,\n",
    "                          title='Confusion matrix',\n",
    "                          cmap=plt.cm.Blues):\n",
    "    \"\"\"\n",
    "    This function prints and plots the confusion matrix.\n",
    "    Normalization can be applied by setting `normalize=True`.\n",
    "    \"\"\"\n",
    "    plt.imshow(cm, interpolation='nearest', cmap=cmap)\n",
    "    plt.title(title)\n",
    "    plt.colorbar()\n",
    "    tick_marks = np.arange(len(classes))\n",
    "    plt.xticks(tick_marks, classes, rotation=45)\n",
    "    plt.yticks(tick_marks, classes)\n",
    "\n",
    "    if normalize:\n",
    "        cm = cm.astype('float') / cm.sum(axis=1)[:, np.newaxis]\n",
    "        print(\"Normalized confusion matrix\")\n",
    "    else:\n",
    "        print('Confusion matrix, without normalization')\n",
    "\n",
    "    print(cm)\n",
    "\n",
    "    thresh = cm.max() \n",
    "    for i, j in itertools.product(range(cm.shape[0]), range(cm.shape[1])):\n",
    "        plt.text(j, i, cm[i, j],\n",
    "                 horizontalalignment=\"center\",\n",
    "                 color=\"white\" if cm[i, j] > thresh else \"black\")\n",
    "\n",
    "    plt.tight_layout()\n",
    "    plt.ylabel('True label')\n",
    "    plt.xlabel('Predicted label')"
   ]
  },
  {
   "cell_type": "code",
   "execution_count": 106,
   "metadata": {
    "colab": {
     "base_uri": "https://localhost:8080/",
     "height": 643
    },
    "id": "ALvrhVX3MIHW",
    "outputId": "191b8284-1a26-4445-9d3e-98150e0c67f6"
   },
   "outputs": [
    {
     "name": "stdout",
     "output_type": "stream",
     "text": [
      "Confusion matrix, without normalization\n",
      "[[1647  108]\n",
      " [  53  192]]\n"
     ]
    },
    {
     "data": {
      "image/png": "[encoded data removed]",
      "text/plain": [
       "<Figure size 720x576 with 2 Axes>"
      ]
     },
     "metadata": {
      "needs_background": "light"
     },
     "output_type": "display_data"
    }
   ],
   "source": [
    "#мы уже нашли ранее \"оптимальный\" порог, когда максимизировали f_score\n",
    "font = {'size' : 15}\n",
    "\n",
    "plt.rc('font', **font)\n",
    "\n",
    "cnf_matrix = confusion_matrix(y_max_test, preds_max>thresholds[ix_max])\n",
    "plt.figure(figsize=(10, 8))\n",
    "plot_confusion_matrix(cnf_matrix, classes=['Non-Churn', 'churn'],\n",
    "                      title='Confusion matrix')\n",
    "plt.savefig(\"conf_matrix.png\")\n",
    "plt.show()"
   ]
  },
  {
   "cell_type": "code",
   "execution_count": 107,
   "metadata": {
    "colab": {
     "base_uri": "https://localhost:8080/"
    },
    "id": "vGLGf7iFMIHX",
    "outputId": "eaff375e-0207-4684-c675-58502fd7fd70"
   },
   "outputs": [
    {
     "data": {
      "text/plain": [
       "0.9516297459154602"
      ]
     },
     "execution_count": 107,
     "metadata": {},
     "output_type": "execute_result"
    }
   ],
   "source": [
    "roc_auc_score(y_max_test, preds_max)"
   ]
  },
  {
   "cell_type": "code",
   "execution_count": 108,
   "metadata": {},
   "outputs": [
    {
     "data": {
      "text/plain": [
       "0.9330309901738473"
      ]
     },
     "execution_count": 108,
     "metadata": {},
     "output_type": "execute_result"
    }
   ],
   "source": [
    "roc_auc_score(y_mean_test, preds_mean)"
   ]
  },
  {
   "cell_type": "code",
   "execution_count": 109,
   "metadata": {},
   "outputs": [
    {
     "data": {
      "text/plain": [
       "0.9499552299552299"
      ]
     },
     "execution_count": 109,
     "metadata": {},
     "output_type": "execute_result"
    }
   ],
   "source": [
    "roc_auc_score(y_median_test, preds_median)"
   ]
  },
  {
   "cell_type": "markdown",
   "metadata": {
    "id": "qPeKWD9VMIHY"
   },
   "source": [
    "Можно заметить что способ с средними значениями и медианами показали метрики ниже чем максимальное значение, но RECALL в отличии от\n",
    "остальных оказался выше. Можно сделать вывод о том что в каких-то задачах где нужно оптимизировать именно recall, эти варианты \n",
    "построения embedding могут сработать лучше."
   ]
  }
 ],
 "metadata": {
  "colab": {
   "collapsed_sections": [
    "fbxpSNMMMIHY",
    "knu4EuwkMIHZ",
    "QfwYYD1qMIHa"
   ],
   "name": "webinar2_colab_practica_ipynb_.ipynb",
   "provenance": []
  },
  "kernelspec": {
   "display_name": "Python 3 (ipykernel)",
   "language": "python",
   "name": "python3"
  },
  "language_info": {
   "codemirror_mode": {
    "name": "ipython",
    "version": 3
   },
   "file_extension": ".py",
   "mimetype": "text/x-python",
   "name": "python",
   "nbconvert_exporter": "python",
   "pygments_lexer": "ipython3",
   "version": "3.9.12"
  },
  "widgets": {
   "application/vnd.jupyter.widget-state+json": {
    "state": {},
    "version_major": 2,
    "version_minor": 0
   }
  }
 },
 "nbformat": 4,
 "nbformat_minor": 1
}
